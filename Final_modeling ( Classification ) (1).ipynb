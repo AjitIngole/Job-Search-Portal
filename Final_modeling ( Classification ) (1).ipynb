{
 "cells": [
  {
   "cell_type": "code",
   "execution_count": 1,
   "metadata": {},
   "outputs": [],
   "source": [
    "import pandas as pd\n",
    "import numpy as np\n",
    "import nltk\n",
    "import string as s\n",
    "from nltk.corpus import stopwords\n",
    "import matplotlib.pyplot as plt\n",
    "import seaborn as sns\n",
    "import warnings\n",
    "warnings.filterwarnings('ignore')\n",
    "%matplotlib inline\n",
    "import seaborn as sns\n",
    "import re\n",
    "import os\n",
    "from sklearn.model_selection import train_test_split,GridSearchCV\n",
    "from sklearn.linear_model import LogisticRegression\n",
    "from sklearn.ensemble import RandomForestClassifier,AdaBoostClassifier,GradientBoostingClassifier\n",
    "from sklearn.svm import SVC\n",
    "from sklearn.tree import DecisionTreeClassifier,plot_tree\n",
    "from xgboost import XGBClassifier\n",
    "from lightgbm import LGBMClassifier\n",
    "from sklearn.neighbors import KNeighborsClassifier\n",
    "from sklearn.naive_bayes import GaussianNB,MultinomialNB\n",
    "from sklearn.metrics import accuracy_score,recall_score,precision_score,confusion_matrix,classification_report,roc_auc_score,roc_curve\n",
    "from sklearn.preprocessing import StandardScaler,LabelEncoder\n",
    "import warnings\n",
    "warnings.filterwarnings('ignore')"
   ]
  },
  {
   "cell_type": "code",
   "execution_count": 2,
   "metadata": {},
   "outputs": [
    {
     "name": "stderr",
     "output_type": "stream",
     "text": [
      "[nltk_data] Downloading package stopwords to\n",
      "[nltk_data]     C:\\Users\\Aragog\\AppData\\Roaming\\nltk_data...\n",
      "[nltk_data]   Package stopwords is already up-to-date!\n"
     ]
    },
    {
     "data": {
      "text/plain": [
       "True"
      ]
     },
     "execution_count": 2,
     "metadata": {},
     "output_type": "execute_result"
    }
   ],
   "source": [
    "import nltk\n",
    "nltk.download('stopwords')"
   ]
  },
  {
   "cell_type": "code",
   "execution_count": 3,
   "metadata": {},
   "outputs": [
    {
     "name": "stderr",
     "output_type": "stream",
     "text": [
      "[nltk_data] Downloading package omw-1.4 to\n",
      "[nltk_data]     C:\\Users\\Aragog\\AppData\\Roaming\\nltk_data...\n",
      "[nltk_data]   Package omw-1.4 is already up-to-date!\n"
     ]
    },
    {
     "data": {
      "text/plain": [
       "True"
      ]
     },
     "execution_count": 3,
     "metadata": {},
     "output_type": "execute_result"
    }
   ],
   "source": [
    "nltk.download('omw-1.4')"
   ]
  },
  {
   "cell_type": "code",
   "execution_count": 4,
   "metadata": {},
   "outputs": [
    {
     "data": {
      "text/html": [
       "<div>\n",
       "<style scoped>\n",
       "    .dataframe tbody tr th:only-of-type {\n",
       "        vertical-align: middle;\n",
       "    }\n",
       "\n",
       "    .dataframe tbody tr th {\n",
       "        vertical-align: top;\n",
       "    }\n",
       "\n",
       "    .dataframe thead th {\n",
       "        text-align: right;\n",
       "    }\n",
       "</style>\n",
       "<table border=\"1\" class=\"dataframe\">\n",
       "  <thead>\n",
       "    <tr style=\"text-align: right;\">\n",
       "      <th></th>\n",
       "      <th>Unnamed: 0</th>\n",
       "      <th>Job_Title</th>\n",
       "      <th>Key_Skills</th>\n",
       "      <th>Location1</th>\n",
       "      <th>Functional_Area_merged</th>\n",
       "      <th>Job_Experience</th>\n",
       "      <th>Job_Salary</th>\n",
       "    </tr>\n",
       "  </thead>\n",
       "  <tbody>\n",
       "    <tr>\n",
       "      <th>0</th>\n",
       "      <td>3</td>\n",
       "      <td>Technical Support</td>\n",
       "      <td>Technical Support</td>\n",
       "      <td>Mumbai</td>\n",
       "      <td>Admin,Maintenance,Security,Datawarehousing,IT ...</td>\n",
       "      <td>1 - 5</td>\n",
       "      <td>1 - 5</td>\n",
       "    </tr>\n",
       "    <tr>\n",
       "      <th>1</th>\n",
       "      <td>6</td>\n",
       "      <td>Sales- Fresher-for Leading Property Consultant</td>\n",
       "      <td>channel partners, real estate, negotiation, p...</td>\n",
       "      <td>Bengaluru</td>\n",
       "      <td>Retail Sales,Sales , Retail , Business Develop...</td>\n",
       "      <td>1 - 5</td>\n",
       "      <td>1 - 5</td>\n",
       "    </tr>\n",
       "    <tr>\n",
       "      <th>2</th>\n",
       "      <td>14</td>\n",
       "      <td>Looking Facebook ,social Media Manager For ou...</td>\n",
       "      <td>digital marketing, seo, social media marketin...</td>\n",
       "      <td>Gurgaon</td>\n",
       "      <td>Online,Digital Marketing,Marketing , Advertisi...</td>\n",
       "      <td>1 - 5</td>\n",
       "      <td>1 - 5</td>\n",
       "    </tr>\n",
       "    <tr>\n",
       "      <th>3</th>\n",
       "      <td>21</td>\n",
       "      <td>Business Development , Corporate Sales</td>\n",
       "      <td>lead generation, business development, corpor...</td>\n",
       "      <td>Delhi NCR</td>\n",
       "      <td>Retail Sales,Sales , Retail , Business Develop...</td>\n",
       "      <td>1 - 5</td>\n",
       "      <td>1 - 5</td>\n",
       "    </tr>\n",
       "    <tr>\n",
       "      <th>4</th>\n",
       "      <td>23</td>\n",
       "      <td>QA Executive</td>\n",
       "      <td>QA Executive</td>\n",
       "      <td>Hyderabad</td>\n",
       "      <td>QA,Testing,Documentation,IT Software - QA &amp; Te...</td>\n",
       "      <td>1 - 5</td>\n",
       "      <td>1 - 5</td>\n",
       "    </tr>\n",
       "    <tr>\n",
       "      <th>...</th>\n",
       "      <td>...</td>\n",
       "      <td>...</td>\n",
       "      <td>...</td>\n",
       "      <td>...</td>\n",
       "      <td>...</td>\n",
       "      <td>...</td>\n",
       "      <td>...</td>\n",
       "    </tr>\n",
       "    <tr>\n",
       "      <th>6793</th>\n",
       "      <td>392</td>\n",
       "      <td>VP , Sr.vp Fire</td>\n",
       "      <td>Fire Safety, fire, Senior Management</td>\n",
       "      <td>Delhi NCR</td>\n",
       "      <td>Safety,Health,Environment,Production , Manufac...</td>\n",
       "      <td>20 - 25</td>\n",
       "      <td>50 - 100</td>\n",
       "    </tr>\n",
       "    <tr>\n",
       "      <th>6794</th>\n",
       "      <td>4917</td>\n",
       "      <td>Vice President - Marketing Startegies</td>\n",
       "      <td>Life Cycle, Portfolio Management, New Product...</td>\n",
       "      <td>Mumbai</td>\n",
       "      <td>Senior Management,Marketing , Advertising , MR...</td>\n",
       "      <td>20 - 25</td>\n",
       "      <td>50 - 100</td>\n",
       "    </tr>\n",
       "    <tr>\n",
       "      <th>6795</th>\n",
       "      <td>9109</td>\n",
       "      <td>VP Finance</td>\n",
       "      <td>financial institution, mis, income tax, conso...</td>\n",
       "      <td>Gurgaon</td>\n",
       "      <td>Senior Management,Accounts , Finance , Tax , C...</td>\n",
       "      <td>20 - 25</td>\n",
       "      <td>50 - 100</td>\n",
       "    </tr>\n",
       "    <tr>\n",
       "      <th>6796</th>\n",
       "      <td>10908</td>\n",
       "      <td>Product Architect</td>\n",
       "      <td>Product Development, Design Development, Indu...</td>\n",
       "      <td>Delhi NCR,Gurgaon</td>\n",
       "      <td>Telecom,IT Hardware , Technical Support , Tele...</td>\n",
       "      <td>20 - 25</td>\n",
       "      <td>50 - 100</td>\n",
       "    </tr>\n",
       "    <tr>\n",
       "      <th>6797</th>\n",
       "      <td>11818</td>\n",
       "      <td>Job Assignment- Group Company Secretary &amp;amp;...</td>\n",
       "      <td>Company Secretary, Legal, Secretarial Activities</td>\n",
       "      <td>Delhi NCR</td>\n",
       "      <td>Senior Management,Accounts , Finance , Tax , C...</td>\n",
       "      <td>20 - 25</td>\n",
       "      <td>50 - 100</td>\n",
       "    </tr>\n",
       "  </tbody>\n",
       "</table>\n",
       "<p>6798 rows × 7 columns</p>\n",
       "</div>"
      ],
      "text/plain": [
       "      Unnamed: 0                                          Job_Title  \\\n",
       "0              3                                  Technical Support   \n",
       "1              6     Sales- Fresher-for Leading Property Consultant   \n",
       "2             14   Looking Facebook ,social Media Manager For ou...   \n",
       "3             21             Business Development , Corporate Sales   \n",
       "4             23                                       QA Executive   \n",
       "...          ...                                                ...   \n",
       "6793         392                                    VP , Sr.vp Fire   \n",
       "6794        4917              Vice President - Marketing Startegies   \n",
       "6795        9109                                         VP Finance   \n",
       "6796       10908                                  Product Architect   \n",
       "6797       11818   Job Assignment- Group Company Secretary &amp;...   \n",
       "\n",
       "                                             Key_Skills          Location1  \\\n",
       "0                                     Technical Support             Mumbai   \n",
       "1      channel partners, real estate, negotiation, p...          Bengaluru   \n",
       "2      digital marketing, seo, social media marketin...            Gurgaon   \n",
       "3      lead generation, business development, corpor...          Delhi NCR   \n",
       "4                                          QA Executive          Hyderabad   \n",
       "...                                                 ...                ...   \n",
       "6793               Fire Safety, fire, Senior Management          Delhi NCR   \n",
       "6794   Life Cycle, Portfolio Management, New Product...             Mumbai   \n",
       "6795   financial institution, mis, income tax, conso...            Gurgaon   \n",
       "6796   Product Development, Design Development, Indu...  Delhi NCR,Gurgaon   \n",
       "6797   Company Secretary, Legal, Secretarial Activities          Delhi NCR   \n",
       "\n",
       "                                 Functional_Area_merged Job_Experience  \\\n",
       "0     Admin,Maintenance,Security,Datawarehousing,IT ...          1 - 5   \n",
       "1     Retail Sales,Sales , Retail , Business Develop...          1 - 5   \n",
       "2     Online,Digital Marketing,Marketing , Advertisi...          1 - 5   \n",
       "3     Retail Sales,Sales , Retail , Business Develop...          1 - 5   \n",
       "4     QA,Testing,Documentation,IT Software - QA & Te...          1 - 5   \n",
       "...                                                 ...            ...   \n",
       "6793  Safety,Health,Environment,Production , Manufac...        20 - 25   \n",
       "6794  Senior Management,Marketing , Advertising , MR...        20 - 25   \n",
       "6795  Senior Management,Accounts , Finance , Tax , C...        20 - 25   \n",
       "6796  Telecom,IT Hardware , Technical Support , Tele...        20 - 25   \n",
       "6797  Senior Management,Accounts , Finance , Tax , C...        20 - 25   \n",
       "\n",
       "     Job_Salary  \n",
       "0         1 - 5  \n",
       "1         1 - 5  \n",
       "2         1 - 5  \n",
       "3         1 - 5  \n",
       "4         1 - 5  \n",
       "...         ...  \n",
       "6793   50 - 100  \n",
       "6794   50 - 100  \n",
       "6795   50 - 100  \n",
       "6796   50 - 100  \n",
       "6797   50 - 100  \n",
       "\n",
       "[6798 rows x 7 columns]"
      ]
     },
     "execution_count": 4,
     "metadata": {},
     "output_type": "execute_result"
    }
   ],
   "source": [
    "df = pd.read_csv('cleaned_dataset(range).csv')\n",
    "df"
   ]
  },
  {
   "cell_type": "code",
   "execution_count": 5,
   "metadata": {},
   "outputs": [
    {
     "data": {
      "text/plain": [
       "1 - 5       4197\n",
       "5 - 10      1370\n",
       "10 - 25     1086\n",
       "25 - 50      125\n",
       "50 - 100      20\n",
       "Name: Job_Salary, dtype: int64"
      ]
     },
     "execution_count": 5,
     "metadata": {},
     "output_type": "execute_result"
    }
   ],
   "source": [
    "df['Job_Salary'].value_counts()"
   ]
  },
  {
   "cell_type": "code",
   "execution_count": 6,
   "metadata": {},
   "outputs": [],
   "source": [
    "le = LabelEncoder()\n",
    "df['Job_Salary'] = le.fit_transform(df['Job_Salary'])\n",
    "df['Job_Experience'] = le.fit_transform(df['Job_Experience'])"
   ]
  },
  {
   "cell_type": "code",
   "execution_count": 7,
   "metadata": {},
   "outputs": [
    {
     "data": {
      "text/html": [
       "<div>\n",
       "<style scoped>\n",
       "    .dataframe tbody tr th:only-of-type {\n",
       "        vertical-align: middle;\n",
       "    }\n",
       "\n",
       "    .dataframe tbody tr th {\n",
       "        vertical-align: top;\n",
       "    }\n",
       "\n",
       "    .dataframe thead th {\n",
       "        text-align: right;\n",
       "    }\n",
       "</style>\n",
       "<table border=\"1\" class=\"dataframe\">\n",
       "  <thead>\n",
       "    <tr style=\"text-align: right;\">\n",
       "      <th></th>\n",
       "      <th>Unnamed: 0</th>\n",
       "      <th>Job_Title</th>\n",
       "      <th>Key_Skills</th>\n",
       "      <th>Location1</th>\n",
       "      <th>Functional_Area_merged</th>\n",
       "      <th>Job_Experience</th>\n",
       "      <th>Job_Salary</th>\n",
       "    </tr>\n",
       "  </thead>\n",
       "  <tbody>\n",
       "    <tr>\n",
       "      <th>0</th>\n",
       "      <td>3</td>\n",
       "      <td>Technical Support</td>\n",
       "      <td>Technical Support</td>\n",
       "      <td>Mumbai</td>\n",
       "      <td>Admin,Maintenance,Security,Datawarehousing,IT ...</td>\n",
       "      <td>0</td>\n",
       "      <td>0</td>\n",
       "    </tr>\n",
       "    <tr>\n",
       "      <th>1</th>\n",
       "      <td>6</td>\n",
       "      <td>Sales- Fresher-for Leading Property Consultant</td>\n",
       "      <td>channel partners, real estate, negotiation, p...</td>\n",
       "      <td>Bengaluru</td>\n",
       "      <td>Retail Sales,Sales , Retail , Business Develop...</td>\n",
       "      <td>0</td>\n",
       "      <td>0</td>\n",
       "    </tr>\n",
       "    <tr>\n",
       "      <th>2</th>\n",
       "      <td>14</td>\n",
       "      <td>Looking Facebook ,social Media Manager For ou...</td>\n",
       "      <td>digital marketing, seo, social media marketin...</td>\n",
       "      <td>Gurgaon</td>\n",
       "      <td>Online,Digital Marketing,Marketing , Advertisi...</td>\n",
       "      <td>0</td>\n",
       "      <td>0</td>\n",
       "    </tr>\n",
       "    <tr>\n",
       "      <th>3</th>\n",
       "      <td>21</td>\n",
       "      <td>Business Development , Corporate Sales</td>\n",
       "      <td>lead generation, business development, corpor...</td>\n",
       "      <td>Delhi NCR</td>\n",
       "      <td>Retail Sales,Sales , Retail , Business Develop...</td>\n",
       "      <td>0</td>\n",
       "      <td>0</td>\n",
       "    </tr>\n",
       "    <tr>\n",
       "      <th>4</th>\n",
       "      <td>23</td>\n",
       "      <td>QA Executive</td>\n",
       "      <td>QA Executive</td>\n",
       "      <td>Hyderabad</td>\n",
       "      <td>QA,Testing,Documentation,IT Software - QA &amp; Te...</td>\n",
       "      <td>0</td>\n",
       "      <td>0</td>\n",
       "    </tr>\n",
       "    <tr>\n",
       "      <th>...</th>\n",
       "      <td>...</td>\n",
       "      <td>...</td>\n",
       "      <td>...</td>\n",
       "      <td>...</td>\n",
       "      <td>...</td>\n",
       "      <td>...</td>\n",
       "      <td>...</td>\n",
       "    </tr>\n",
       "    <tr>\n",
       "      <th>6793</th>\n",
       "      <td>392</td>\n",
       "      <td>VP , Sr.vp Fire</td>\n",
       "      <td>Fire Safety, fire, Senior Management</td>\n",
       "      <td>Delhi NCR</td>\n",
       "      <td>Safety,Health,Environment,Production , Manufac...</td>\n",
       "      <td>3</td>\n",
       "      <td>4</td>\n",
       "    </tr>\n",
       "    <tr>\n",
       "      <th>6794</th>\n",
       "      <td>4917</td>\n",
       "      <td>Vice President - Marketing Startegies</td>\n",
       "      <td>Life Cycle, Portfolio Management, New Product...</td>\n",
       "      <td>Mumbai</td>\n",
       "      <td>Senior Management,Marketing , Advertising , MR...</td>\n",
       "      <td>3</td>\n",
       "      <td>4</td>\n",
       "    </tr>\n",
       "    <tr>\n",
       "      <th>6795</th>\n",
       "      <td>9109</td>\n",
       "      <td>VP Finance</td>\n",
       "      <td>financial institution, mis, income tax, conso...</td>\n",
       "      <td>Gurgaon</td>\n",
       "      <td>Senior Management,Accounts , Finance , Tax , C...</td>\n",
       "      <td>3</td>\n",
       "      <td>4</td>\n",
       "    </tr>\n",
       "    <tr>\n",
       "      <th>6796</th>\n",
       "      <td>10908</td>\n",
       "      <td>Product Architect</td>\n",
       "      <td>Product Development, Design Development, Indu...</td>\n",
       "      <td>Delhi NCR,Gurgaon</td>\n",
       "      <td>Telecom,IT Hardware , Technical Support , Tele...</td>\n",
       "      <td>3</td>\n",
       "      <td>4</td>\n",
       "    </tr>\n",
       "    <tr>\n",
       "      <th>6797</th>\n",
       "      <td>11818</td>\n",
       "      <td>Job Assignment- Group Company Secretary &amp;amp;...</td>\n",
       "      <td>Company Secretary, Legal, Secretarial Activities</td>\n",
       "      <td>Delhi NCR</td>\n",
       "      <td>Senior Management,Accounts , Finance , Tax , C...</td>\n",
       "      <td>3</td>\n",
       "      <td>4</td>\n",
       "    </tr>\n",
       "  </tbody>\n",
       "</table>\n",
       "<p>6798 rows × 7 columns</p>\n",
       "</div>"
      ],
      "text/plain": [
       "      Unnamed: 0                                          Job_Title  \\\n",
       "0              3                                  Technical Support   \n",
       "1              6     Sales- Fresher-for Leading Property Consultant   \n",
       "2             14   Looking Facebook ,social Media Manager For ou...   \n",
       "3             21             Business Development , Corporate Sales   \n",
       "4             23                                       QA Executive   \n",
       "...          ...                                                ...   \n",
       "6793         392                                    VP , Sr.vp Fire   \n",
       "6794        4917              Vice President - Marketing Startegies   \n",
       "6795        9109                                         VP Finance   \n",
       "6796       10908                                  Product Architect   \n",
       "6797       11818   Job Assignment- Group Company Secretary &amp;...   \n",
       "\n",
       "                                             Key_Skills          Location1  \\\n",
       "0                                     Technical Support             Mumbai   \n",
       "1      channel partners, real estate, negotiation, p...          Bengaluru   \n",
       "2      digital marketing, seo, social media marketin...            Gurgaon   \n",
       "3      lead generation, business development, corpor...          Delhi NCR   \n",
       "4                                          QA Executive          Hyderabad   \n",
       "...                                                 ...                ...   \n",
       "6793               Fire Safety, fire, Senior Management          Delhi NCR   \n",
       "6794   Life Cycle, Portfolio Management, New Product...             Mumbai   \n",
       "6795   financial institution, mis, income tax, conso...            Gurgaon   \n",
       "6796   Product Development, Design Development, Indu...  Delhi NCR,Gurgaon   \n",
       "6797   Company Secretary, Legal, Secretarial Activities          Delhi NCR   \n",
       "\n",
       "                                 Functional_Area_merged  Job_Experience  \\\n",
       "0     Admin,Maintenance,Security,Datawarehousing,IT ...               0   \n",
       "1     Retail Sales,Sales , Retail , Business Develop...               0   \n",
       "2     Online,Digital Marketing,Marketing , Advertisi...               0   \n",
       "3     Retail Sales,Sales , Retail , Business Develop...               0   \n",
       "4     QA,Testing,Documentation,IT Software - QA & Te...               0   \n",
       "...                                                 ...             ...   \n",
       "6793  Safety,Health,Environment,Production , Manufac...               3   \n",
       "6794  Senior Management,Marketing , Advertising , MR...               3   \n",
       "6795  Senior Management,Accounts , Finance , Tax , C...               3   \n",
       "6796  Telecom,IT Hardware , Technical Support , Tele...               3   \n",
       "6797  Senior Management,Accounts , Finance , Tax , C...               3   \n",
       "\n",
       "      Job_Salary  \n",
       "0              0  \n",
       "1              0  \n",
       "2              0  \n",
       "3              0  \n",
       "4              0  \n",
       "...          ...  \n",
       "6793           4  \n",
       "6794           4  \n",
       "6795           4  \n",
       "6796           4  \n",
       "6797           4  \n",
       "\n",
       "[6798 rows x 7 columns]"
      ]
     },
     "execution_count": 7,
     "metadata": {},
     "output_type": "execute_result"
    }
   ],
   "source": [
    "df"
   ]
  },
  {
   "cell_type": "code",
   "execution_count": 8,
   "metadata": {},
   "outputs": [
    {
     "data": {
      "text/plain": [
       "0    4197\n",
       "3    1370\n",
       "1    1086\n",
       "2     125\n",
       "4      20\n",
       "Name: Job_Salary, dtype: int64"
      ]
     },
     "execution_count": 8,
     "metadata": {},
     "output_type": "execute_result"
    }
   ],
   "source": [
    "df['Job_Salary'].value_counts()"
   ]
  },
  {
   "cell_type": "code",
   "execution_count": 9,
   "metadata": {},
   "outputs": [
    {
     "data": {
      "image/png": "[encoded data removed]",
      "text/plain": [
       "<Figure size 720x576 with 1 Axes>"
      ]
     },
     "metadata": {},
     "output_type": "display_data"
    }
   ],
   "source": [
    "plt.figure(figsize=(10,8))\n",
    "plt.pie(x=df['Job_Salary'].value_counts(),labels=[\"1 - 5\",\"10 - 25\",\"25 - 50\",\"5 - 10\",\"50 - 100\"])\n",
    "plt.show()"
   ]
  },
  {
   "cell_type": "code",
   "execution_count": 10,
   "metadata": {},
   "outputs": [
    {
     "name": "stdout",
     "output_type": "stream",
     "text": [
      "class_0  : (4197, 7)\n",
      "class_1  : (1086, 7)\n",
      "class_2  : (125, 7)\n",
      "class_3  : (1370, 7)\n",
      "class_4  : (20, 7)\n"
     ]
    }
   ],
   "source": [
    "\n",
    "class_0  = df[df['Job_Salary']==0]\n",
    "class_1   = df[df['Job_Salary']==1]\n",
    "class_2  = df[df['Job_Salary']==2]\n",
    "class_3   = df[df['Job_Salary']==3]\n",
    "class_4  = df[df['Job_Salary']==4]\n",
    "\n",
    "print('class_0  :',class_0.shape)\n",
    "print('class_1  :',class_1.shape)\n",
    "print('class_2  :',class_2.shape)\n",
    "print('class_3  :',class_3.shape)\n",
    "print('class_4  :',class_4.shape)\n"
   ]
  },
  {
   "cell_type": "code",
   "execution_count": 11,
   "metadata": {},
   "outputs": [],
   "source": [
    "class_1_over = class_1.sample(n=4197,random_state=15,replace=True)\n",
    "class_2_over = class_2.sample(n=4197,random_state=15,replace=True)\n",
    "class_3_over = class_3.sample(n=4197,random_state=15,replace=True)\n",
    "class_4_over = class_4.sample(n=4197,random_state=15,replace=True)\n",
    "final_data = pd.concat([class_1_over,class_2_over,class_3_over,class_4_over,class_0],axis=0)"
   ]
  },
  {
   "cell_type": "code",
   "execution_count": 12,
   "metadata": {},
   "outputs": [],
   "source": [
    "df = final_data.drop([\"Unnamed: 0\"],axis =1)"
   ]
  },
  {
   "cell_type": "code",
   "execution_count": 13,
   "metadata": {},
   "outputs": [
    {
     "data": {
      "text/html": [
       "<div>\n",
       "<style scoped>\n",
       "    .dataframe tbody tr th:only-of-type {\n",
       "        vertical-align: middle;\n",
       "    }\n",
       "\n",
       "    .dataframe tbody tr th {\n",
       "        vertical-align: top;\n",
       "    }\n",
       "\n",
       "    .dataframe thead th {\n",
       "        text-align: right;\n",
       "    }\n",
       "</style>\n",
       "<table border=\"1\" class=\"dataframe\">\n",
       "  <thead>\n",
       "    <tr style=\"text-align: right;\">\n",
       "      <th></th>\n",
       "      <th>Job_Title</th>\n",
       "      <th>Key_Skills</th>\n",
       "      <th>Location1</th>\n",
       "      <th>Functional_Area_merged</th>\n",
       "      <th>Job_Experience</th>\n",
       "      <th>Job_Salary</th>\n",
       "    </tr>\n",
       "  </thead>\n",
       "  <tbody>\n",
       "    <tr>\n",
       "      <th>6212</th>\n",
       "      <td>HCL Technologies is Hiring For Data Scientist...</td>\n",
       "      <td>deep learning, data management, data science,...</td>\n",
       "      <td>Delhi NCR,Noida</td>\n",
       "      <td>Programming &amp; Design,IT Software - Application...</td>\n",
       "      <td>5</td>\n",
       "      <td>1</td>\n",
       "    </tr>\n",
       "    <tr>\n",
       "      <th>5951</th>\n",
       "      <td>Aws,azure Technical Lead</td>\n",
       "      <td>Database Administration, Architectural Design...</td>\n",
       "      <td>Gurgaon</td>\n",
       "      <td>Programming &amp; Design,IT Software - Application...</td>\n",
       "      <td>5</td>\n",
       "      <td>1</td>\n",
       "    </tr>\n",
       "    <tr>\n",
       "      <th>5723</th>\n",
       "      <td>Senior Associate- Merger and Accquisition-tax...</td>\n",
       "      <td>ACQUISITION, taxation, MERGER</td>\n",
       "      <td>Gurgaon</td>\n",
       "      <td>Senior Management,Accounts , Finance , Tax , C...</td>\n",
       "      <td>5</td>\n",
       "      <td>1</td>\n",
       "    </tr>\n",
       "    <tr>\n",
       "      <th>6234</th>\n",
       "      <td>City Manager with a Top Retail Brand- Mumbai</td>\n",
       "      <td>Team Management, Visual Merchandising, Invent...</td>\n",
       "      <td>Mumbai</td>\n",
       "      <td>Channel Sales,Sales , Retail , Business Develo...</td>\n",
       "      <td>5</td>\n",
       "      <td>1</td>\n",
       "    </tr>\n",
       "    <tr>\n",
       "      <th>5652</th>\n",
       "      <td>Company Secretary For Pitampura</td>\n",
       "      <td>Company Secretary, Secretarial Activities, Ch...</td>\n",
       "      <td>Delhi NCR</td>\n",
       "      <td>Senior Management,Accounts , Finance , Tax , C...</td>\n",
       "      <td>0</td>\n",
       "      <td>1</td>\n",
       "    </tr>\n",
       "    <tr>\n",
       "      <th>...</th>\n",
       "      <td>...</td>\n",
       "      <td>...</td>\n",
       "      <td>...</td>\n",
       "      <td>...</td>\n",
       "      <td>...</td>\n",
       "      <td>...</td>\n",
       "    </tr>\n",
       "    <tr>\n",
       "      <th>4192</th>\n",
       "      <td>Business Development Manager &amp; BDO - All Indi...</td>\n",
       "      <td>area manager, Sales &amp; Distribution, business ...</td>\n",
       "      <td>Delhi NCR,Bengaluru,Ludhiana</td>\n",
       "      <td>Channel Sales,Sales , Retail , Business Develo...</td>\n",
       "      <td>2</td>\n",
       "      <td>0</td>\n",
       "    </tr>\n",
       "    <tr>\n",
       "      <th>4193</th>\n",
       "      <td>Urgent Walk Ins For Sales Executive - Kolkata...</td>\n",
       "      <td>insurance, pharma sales, auto sales, business...</td>\n",
       "      <td>Kolkata,Guwahati,Ranchi</td>\n",
       "      <td>Retail Sales,Sales , Retail , Business Develop...</td>\n",
       "      <td>2</td>\n",
       "      <td>0</td>\n",
       "    </tr>\n",
       "    <tr>\n",
       "      <th>4194</th>\n",
       "      <td>Highway Engineer, Highway Design Engineer, Br...</td>\n",
       "      <td>Bridge Design, Highway Design, Highway Engine...</td>\n",
       "      <td>Delhi NCR</td>\n",
       "      <td>Site Engineering,Site Engineering , Project Ma...</td>\n",
       "      <td>3</td>\n",
       "      <td>0</td>\n",
       "    </tr>\n",
       "    <tr>\n",
       "      <th>4195</th>\n",
       "      <td>Job Opening ::raitan Pvt. Ltd. :: Accounts &amp;a...</td>\n",
       "      <td>accounts executive, admin assistant, administ...</td>\n",
       "      <td>Chennai</td>\n",
       "      <td>Accounts,Accounts , Finance , Tax , Company Se...</td>\n",
       "      <td>3</td>\n",
       "      <td>0</td>\n",
       "    </tr>\n",
       "    <tr>\n",
       "      <th>4196</th>\n",
       "      <td>Resource Mobilization Manager</td>\n",
       "      <td>Customer Relationship, Resource Mobilization,...</td>\n",
       "      <td>Bengaluru</td>\n",
       "      <td>Operations,Processes,Finance,Legal,Financial S...</td>\n",
       "      <td>3</td>\n",
       "      <td>0</td>\n",
       "    </tr>\n",
       "  </tbody>\n",
       "</table>\n",
       "<p>20985 rows × 6 columns</p>\n",
       "</div>"
      ],
      "text/plain": [
       "                                              Job_Title  \\\n",
       "6212   HCL Technologies is Hiring For Data Scientist...   \n",
       "5951                           Aws,azure Technical Lead   \n",
       "5723   Senior Associate- Merger and Accquisition-tax...   \n",
       "6234       City Manager with a Top Retail Brand- Mumbai   \n",
       "5652                    Company Secretary For Pitampura   \n",
       "...                                                 ...   \n",
       "4192   Business Development Manager & BDO - All Indi...   \n",
       "4193   Urgent Walk Ins For Sales Executive - Kolkata...   \n",
       "4194   Highway Engineer, Highway Design Engineer, Br...   \n",
       "4195   Job Opening ::raitan Pvt. Ltd. :: Accounts &a...   \n",
       "4196                      Resource Mobilization Manager   \n",
       "\n",
       "                                             Key_Skills  \\\n",
       "6212   deep learning, data management, data science,...   \n",
       "5951   Database Administration, Architectural Design...   \n",
       "5723                      ACQUISITION, taxation, MERGER   \n",
       "6234   Team Management, Visual Merchandising, Invent...   \n",
       "5652   Company Secretary, Secretarial Activities, Ch...   \n",
       "...                                                 ...   \n",
       "4192   area manager, Sales & Distribution, business ...   \n",
       "4193   insurance, pharma sales, auto sales, business...   \n",
       "4194   Bridge Design, Highway Design, Highway Engine...   \n",
       "4195   accounts executive, admin assistant, administ...   \n",
       "4196   Customer Relationship, Resource Mobilization,...   \n",
       "\n",
       "                         Location1  \\\n",
       "6212               Delhi NCR,Noida   \n",
       "5951                       Gurgaon   \n",
       "5723                       Gurgaon   \n",
       "6234                        Mumbai   \n",
       "5652                     Delhi NCR   \n",
       "...                            ...   \n",
       "4192  Delhi NCR,Bengaluru,Ludhiana   \n",
       "4193       Kolkata,Guwahati,Ranchi   \n",
       "4194                     Delhi NCR   \n",
       "4195                       Chennai   \n",
       "4196                     Bengaluru   \n",
       "\n",
       "                                 Functional_Area_merged  Job_Experience  \\\n",
       "6212  Programming & Design,IT Software - Application...               5   \n",
       "5951  Programming & Design,IT Software - Application...               5   \n",
       "5723  Senior Management,Accounts , Finance , Tax , C...               5   \n",
       "6234  Channel Sales,Sales , Retail , Business Develo...               5   \n",
       "5652  Senior Management,Accounts , Finance , Tax , C...               0   \n",
       "...                                                 ...             ...   \n",
       "4192  Channel Sales,Sales , Retail , Business Develo...               2   \n",
       "4193  Retail Sales,Sales , Retail , Business Develop...               2   \n",
       "4194  Site Engineering,Site Engineering , Project Ma...               3   \n",
       "4195  Accounts,Accounts , Finance , Tax , Company Se...               3   \n",
       "4196  Operations,Processes,Finance,Legal,Financial S...               3   \n",
       "\n",
       "      Job_Salary  \n",
       "6212           1  \n",
       "5951           1  \n",
       "5723           1  \n",
       "6234           1  \n",
       "5652           1  \n",
       "...          ...  \n",
       "4192           0  \n",
       "4193           0  \n",
       "4194           0  \n",
       "4195           0  \n",
       "4196           0  \n",
       "\n",
       "[20985 rows x 6 columns]"
      ]
     },
     "execution_count": 13,
     "metadata": {},
     "output_type": "execute_result"
    }
   ],
   "source": [
    "df"
   ]
  },
  {
   "cell_type": "code",
   "execution_count": 14,
   "metadata": {},
   "outputs": [
    {
     "data": {
      "image/png": "[encoded data removed]",
      "text/plain": [
       "<Figure size 720x576 with 1 Axes>"
      ]
     },
     "metadata": {},
     "output_type": "display_data"
    }
   ],
   "source": [
    "plt.figure(figsize=(10,8))\n",
    "plt.pie(x=df['Job_Salary'].value_counts(),labels=[\"1 - 5\",\"10 - 25\",\"25 - 50\",\"5 - 10\",\"50 - 100\"])\n",
    "plt.show()"
   ]
  },
  {
   "cell_type": "code",
   "execution_count": 15,
   "metadata": {},
   "outputs": [],
   "source": [
    "df[\"Job_Title\"] = df[\"Job_Title\"].str.lower()\n",
    "df[\"Key_Skills\"] = df[\"Key_Skills\"].str.lower()\n",
    "df[\"Functional_Area_merged\"] = df[\"Functional_Area_merged\"].str.lower()\n",
    "df[\"Location1\"] = df[\"Location1\"].str.lower()\n"
   ]
  },
  {
   "cell_type": "code",
   "execution_count": 16,
   "metadata": {},
   "outputs": [
    {
     "data": {
      "text/html": [
       "<div>\n",
       "<style scoped>\n",
       "    .dataframe tbody tr th:only-of-type {\n",
       "        vertical-align: middle;\n",
       "    }\n",
       "\n",
       "    .dataframe tbody tr th {\n",
       "        vertical-align: top;\n",
       "    }\n",
       "\n",
       "    .dataframe thead th {\n",
       "        text-align: right;\n",
       "    }\n",
       "</style>\n",
       "<table border=\"1\" class=\"dataframe\">\n",
       "  <thead>\n",
       "    <tr style=\"text-align: right;\">\n",
       "      <th></th>\n",
       "      <th>Job_Title</th>\n",
       "      <th>Key_Skills</th>\n",
       "      <th>Location1</th>\n",
       "      <th>Functional_Area_merged</th>\n",
       "      <th>Job_Experience</th>\n",
       "      <th>Job_Salary</th>\n",
       "    </tr>\n",
       "  </thead>\n",
       "  <tbody>\n",
       "    <tr>\n",
       "      <th>6212</th>\n",
       "      <td>hcl technologies is hiring for data scientist...</td>\n",
       "      <td>deep learning, data management, data science,...</td>\n",
       "      <td>delhi ncr,noida</td>\n",
       "      <td>programming &amp; design,it software - application...</td>\n",
       "      <td>5</td>\n",
       "      <td>1</td>\n",
       "    </tr>\n",
       "    <tr>\n",
       "      <th>5951</th>\n",
       "      <td>aws,azure technical lead</td>\n",
       "      <td>database administration, architectural design...</td>\n",
       "      <td>gurgaon</td>\n",
       "      <td>programming &amp; design,it software - application...</td>\n",
       "      <td>5</td>\n",
       "      <td>1</td>\n",
       "    </tr>\n",
       "    <tr>\n",
       "      <th>5723</th>\n",
       "      <td>senior associate- merger and accquisition-tax...</td>\n",
       "      <td>acquisition, taxation, merger</td>\n",
       "      <td>gurgaon</td>\n",
       "      <td>senior management,accounts , finance , tax , c...</td>\n",
       "      <td>5</td>\n",
       "      <td>1</td>\n",
       "    </tr>\n",
       "    <tr>\n",
       "      <th>6234</th>\n",
       "      <td>city manager with a top retail brand- mumbai</td>\n",
       "      <td>team management, visual merchandising, invent...</td>\n",
       "      <td>mumbai</td>\n",
       "      <td>channel sales,sales , retail , business develo...</td>\n",
       "      <td>5</td>\n",
       "      <td>1</td>\n",
       "    </tr>\n",
       "    <tr>\n",
       "      <th>5652</th>\n",
       "      <td>company secretary for pitampura</td>\n",
       "      <td>company secretary, secretarial activities, ch...</td>\n",
       "      <td>delhi ncr</td>\n",
       "      <td>senior management,accounts , finance , tax , c...</td>\n",
       "      <td>0</td>\n",
       "      <td>1</td>\n",
       "    </tr>\n",
       "    <tr>\n",
       "      <th>...</th>\n",
       "      <td>...</td>\n",
       "      <td>...</td>\n",
       "      <td>...</td>\n",
       "      <td>...</td>\n",
       "      <td>...</td>\n",
       "      <td>...</td>\n",
       "    </tr>\n",
       "    <tr>\n",
       "      <th>4192</th>\n",
       "      <td>business development manager &amp; bdo - all indi...</td>\n",
       "      <td>area manager, sales &amp; distribution, business ...</td>\n",
       "      <td>delhi ncr,bengaluru,ludhiana</td>\n",
       "      <td>channel sales,sales , retail , business develo...</td>\n",
       "      <td>2</td>\n",
       "      <td>0</td>\n",
       "    </tr>\n",
       "    <tr>\n",
       "      <th>4193</th>\n",
       "      <td>urgent walk ins for sales executive - kolkata...</td>\n",
       "      <td>insurance, pharma sales, auto sales, business...</td>\n",
       "      <td>kolkata,guwahati,ranchi</td>\n",
       "      <td>retail sales,sales , retail , business develop...</td>\n",
       "      <td>2</td>\n",
       "      <td>0</td>\n",
       "    </tr>\n",
       "    <tr>\n",
       "      <th>4194</th>\n",
       "      <td>highway engineer, highway design engineer, br...</td>\n",
       "      <td>bridge design, highway design, highway engine...</td>\n",
       "      <td>delhi ncr</td>\n",
       "      <td>site engineering,site engineering , project ma...</td>\n",
       "      <td>3</td>\n",
       "      <td>0</td>\n",
       "    </tr>\n",
       "    <tr>\n",
       "      <th>4195</th>\n",
       "      <td>job opening ::raitan pvt. ltd. :: accounts &amp;a...</td>\n",
       "      <td>accounts executive, admin assistant, administ...</td>\n",
       "      <td>chennai</td>\n",
       "      <td>accounts,accounts , finance , tax , company se...</td>\n",
       "      <td>3</td>\n",
       "      <td>0</td>\n",
       "    </tr>\n",
       "    <tr>\n",
       "      <th>4196</th>\n",
       "      <td>resource mobilization manager</td>\n",
       "      <td>customer relationship, resource mobilization,...</td>\n",
       "      <td>bengaluru</td>\n",
       "      <td>operations,processes,finance,legal,financial s...</td>\n",
       "      <td>3</td>\n",
       "      <td>0</td>\n",
       "    </tr>\n",
       "  </tbody>\n",
       "</table>\n",
       "<p>20985 rows × 6 columns</p>\n",
       "</div>"
      ],
      "text/plain": [
       "                                              Job_Title  \\\n",
       "6212   hcl technologies is hiring for data scientist...   \n",
       "5951                           aws,azure technical lead   \n",
       "5723   senior associate- merger and accquisition-tax...   \n",
       "6234       city manager with a top retail brand- mumbai   \n",
       "5652                    company secretary for pitampura   \n",
       "...                                                 ...   \n",
       "4192   business development manager & bdo - all indi...   \n",
       "4193   urgent walk ins for sales executive - kolkata...   \n",
       "4194   highway engineer, highway design engineer, br...   \n",
       "4195   job opening ::raitan pvt. ltd. :: accounts &a...   \n",
       "4196                      resource mobilization manager   \n",
       "\n",
       "                                             Key_Skills  \\\n",
       "6212   deep learning, data management, data science,...   \n",
       "5951   database administration, architectural design...   \n",
       "5723                      acquisition, taxation, merger   \n",
       "6234   team management, visual merchandising, invent...   \n",
       "5652   company secretary, secretarial activities, ch...   \n",
       "...                                                 ...   \n",
       "4192   area manager, sales & distribution, business ...   \n",
       "4193   insurance, pharma sales, auto sales, business...   \n",
       "4194   bridge design, highway design, highway engine...   \n",
       "4195   accounts executive, admin assistant, administ...   \n",
       "4196   customer relationship, resource mobilization,...   \n",
       "\n",
       "                         Location1  \\\n",
       "6212               delhi ncr,noida   \n",
       "5951                       gurgaon   \n",
       "5723                       gurgaon   \n",
       "6234                        mumbai   \n",
       "5652                     delhi ncr   \n",
       "...                            ...   \n",
       "4192  delhi ncr,bengaluru,ludhiana   \n",
       "4193       kolkata,guwahati,ranchi   \n",
       "4194                     delhi ncr   \n",
       "4195                       chennai   \n",
       "4196                     bengaluru   \n",
       "\n",
       "                                 Functional_Area_merged  Job_Experience  \\\n",
       "6212  programming & design,it software - application...               5   \n",
       "5951  programming & design,it software - application...               5   \n",
       "5723  senior management,accounts , finance , tax , c...               5   \n",
       "6234  channel sales,sales , retail , business develo...               5   \n",
       "5652  senior management,accounts , finance , tax , c...               0   \n",
       "...                                                 ...             ...   \n",
       "4192  channel sales,sales , retail , business develo...               2   \n",
       "4193  retail sales,sales , retail , business develop...               2   \n",
       "4194  site engineering,site engineering , project ma...               3   \n",
       "4195  accounts,accounts , finance , tax , company se...               3   \n",
       "4196  operations,processes,finance,legal,financial s...               3   \n",
       "\n",
       "      Job_Salary  \n",
       "6212           1  \n",
       "5951           1  \n",
       "5723           1  \n",
       "6234           1  \n",
       "5652           1  \n",
       "...          ...  \n",
       "4192           0  \n",
       "4193           0  \n",
       "4194           0  \n",
       "4195           0  \n",
       "4196           0  \n",
       "\n",
       "[20985 rows x 6 columns]"
      ]
     },
     "execution_count": 16,
     "metadata": {},
     "output_type": "execute_result"
    }
   ],
   "source": [
    "df"
   ]
  },
  {
   "cell_type": "code",
   "execution_count": 17,
   "metadata": {},
   "outputs": [
    {
     "data": {
      "text/html": [
       "<div>\n",
       "<style scoped>\n",
       "    .dataframe tbody tr th:only-of-type {\n",
       "        vertical-align: middle;\n",
       "    }\n",
       "\n",
       "    .dataframe tbody tr th {\n",
       "        vertical-align: top;\n",
       "    }\n",
       "\n",
       "    .dataframe thead th {\n",
       "        text-align: right;\n",
       "    }\n",
       "</style>\n",
       "<table border=\"1\" class=\"dataframe\">\n",
       "  <thead>\n",
       "    <tr style=\"text-align: right;\">\n",
       "      <th></th>\n",
       "      <th>Job_Experience</th>\n",
       "      <th>Job_Salary</th>\n",
       "    </tr>\n",
       "  </thead>\n",
       "  <tbody>\n",
       "    <tr>\n",
       "      <th>count</th>\n",
       "      <td>20985.000000</td>\n",
       "      <td>20985.000000</td>\n",
       "    </tr>\n",
       "    <tr>\n",
       "      <th>mean</th>\n",
       "      <td>2.204098</td>\n",
       "      <td>2.000000</td>\n",
       "    </tr>\n",
       "    <tr>\n",
       "      <th>std</th>\n",
       "      <td>2.005222</td>\n",
       "      <td>1.414247</td>\n",
       "    </tr>\n",
       "    <tr>\n",
       "      <th>min</th>\n",
       "      <td>0.000000</td>\n",
       "      <td>0.000000</td>\n",
       "    </tr>\n",
       "    <tr>\n",
       "      <th>25%</th>\n",
       "      <td>0.000000</td>\n",
       "      <td>1.000000</td>\n",
       "    </tr>\n",
       "    <tr>\n",
       "      <th>50%</th>\n",
       "      <td>2.000000</td>\n",
       "      <td>2.000000</td>\n",
       "    </tr>\n",
       "    <tr>\n",
       "      <th>75%</th>\n",
       "      <td>5.000000</td>\n",
       "      <td>3.000000</td>\n",
       "    </tr>\n",
       "    <tr>\n",
       "      <th>max</th>\n",
       "      <td>5.000000</td>\n",
       "      <td>4.000000</td>\n",
       "    </tr>\n",
       "  </tbody>\n",
       "</table>\n",
       "</div>"
      ],
      "text/plain": [
       "       Job_Experience    Job_Salary\n",
       "count    20985.000000  20985.000000\n",
       "mean         2.204098      2.000000\n",
       "std          2.005222      1.414247\n",
       "min          0.000000      0.000000\n",
       "25%          0.000000      1.000000\n",
       "50%          2.000000      2.000000\n",
       "75%          5.000000      3.000000\n",
       "max          5.000000      4.000000"
      ]
     },
     "execution_count": 17,
     "metadata": {},
     "output_type": "execute_result"
    }
   ],
   "source": [
    "df.describe()"
   ]
  },
  {
   "cell_type": "code",
   "execution_count": 18,
   "metadata": {},
   "outputs": [
    {
     "name": "stdout",
     "output_type": "stream",
     "text": [
      "<class 'pandas.core.frame.DataFrame'>\n",
      "Int64Index: 20985 entries, 6212 to 4196\n",
      "Data columns (total 6 columns):\n",
      " #   Column                  Non-Null Count  Dtype \n",
      "---  ------                  --------------  ----- \n",
      " 0   Job_Title               20985 non-null  object\n",
      " 1   Key_Skills              20985 non-null  object\n",
      " 2   Location1               20985 non-null  object\n",
      " 3   Functional_Area_merged  20985 non-null  object\n",
      " 4   Job_Experience          20985 non-null  int32 \n",
      " 5   Job_Salary              20985 non-null  int32 \n",
      "dtypes: int32(2), object(4)\n",
      "memory usage: 983.7+ KB\n"
     ]
    }
   ],
   "source": [
    "df.info()"
   ]
  },
  {
   "cell_type": "markdown",
   "metadata": {},
   "source": [
    "Tokenization of Data"
   ]
  },
  {
   "cell_type": "code",
   "execution_count": 19,
   "metadata": {},
   "outputs": [],
   "source": [
    "# from nltk.tokenize import word_tokenize\n",
    "\n",
    "def word_tok(data):\n",
    "    tokens = re.findall(\"[\\w']+\", data)\n",
    "#     print(tokens)\n",
    "    return tokens"
   ]
  },
  {
   "cell_type": "markdown",
   "metadata": {},
   "source": [
    "Removal of Stopwords"
   ]
  },
  {
   "cell_type": "code",
   "execution_count": 20,
   "metadata": {},
   "outputs": [],
   "source": [
    "def remove_stopwords(data):\n",
    "    stopWords = stopwords.words('english')\n",
    "    new_list = []\n",
    "    for i in data:\n",
    "        if i.lower() not in stopWords:\n",
    "            new_list.append(i)\n",
    "#     print(new_list)\n",
    "    return new_list"
   ]
  },
  {
   "cell_type": "markdown",
   "metadata": {},
   "source": [
    "Removal of Punctuation Symbols"
   ]
  },
  {
   "cell_type": "code",
   "execution_count": 21,
   "metadata": {},
   "outputs": [],
   "source": [
    "def remove_punctuations(data):\n",
    "    new_list = []\n",
    "    for i in data:\n",
    "        for j in s.punctuation:\n",
    "            i = i.replace(j,'')\n",
    "        new_list.append(i)\n",
    "    return new_list"
   ]
  },
  {
   "cell_type": "markdown",
   "metadata": {},
   "source": [
    "Removal of Numbers"
   ]
  },
  {
   "cell_type": "code",
   "execution_count": 22,
   "metadata": {},
   "outputs": [],
   "source": [
    "def remove_number(data):\n",
    "    no_digit_list = []\n",
    "    new_list = []\n",
    "    \n",
    "    for i in data:\n",
    "        for j in s.digits:\n",
    "            i = i.replace(j,'')\n",
    "        no_digit_list.append(i)\n",
    "    \n",
    "    for i in no_digit_list:\n",
    "        if i!='':\n",
    "            new_list.append(i)\n",
    "    return new_list"
   ]
  },
  {
   "cell_type": "markdown",
   "metadata": {},
   "source": [
    "Lemmatization of Data"
   ]
  },
  {
   "cell_type": "code",
   "execution_count": 23,
   "metadata": {},
   "outputs": [],
   "source": [
    "def lemmatization(data):\n",
    "    lemmatizer = nltk.stem.WordNetLemmatizer()\n",
    "    roots = [lemmatizer.lemmatize(i) for i in data]\n",
    "    return roots"
   ]
  },
  {
   "cell_type": "code",
   "execution_count": 24,
   "metadata": {},
   "outputs": [],
   "source": [
    "# Job Title\n",
    "df[\"Job_Title\"] = df[\"Job_Title\"].apply(word_tok)\n",
    "df[\"Job_Title\"] = df[\"Job_Title\"].apply(remove_stopwords)\n",
    "df[\"Job_Title\"] = df[\"Job_Title\"].apply(remove_punctuations)\n",
    "df[\"Job_Title\"] = df[\"Job_Title\"].apply(remove_number)\n",
    "df[\"Job_Title\"] = df[\"Job_Title\"].apply(lemmatization)"
   ]
  },
  {
   "cell_type": "code",
   "execution_count": 25,
   "metadata": {},
   "outputs": [],
   "source": [
    "df['Job_Title'] = [' '.join(map(str,l)) for l in df['Job_Title']] "
   ]
  },
  {
   "cell_type": "code",
   "execution_count": 26,
   "metadata": {},
   "outputs": [],
   "source": [
    "# Key Skills\n",
    "df[\"Key_Skills\"] = df[\"Key_Skills\"].apply(word_tok)\n",
    "df[\"Key_Skills\"] = df[\"Key_Skills\"].apply(remove_stopwords)\n",
    "df[\"Key_Skills\"] = df[\"Key_Skills\"].apply(remove_punctuations)\n",
    "df[\"Key_Skills\"] = df[\"Key_Skills\"].apply(remove_number)\n",
    "df[\"Key_Skills\"] = df[\"Key_Skills\"].apply(lemmatization)"
   ]
  },
  {
   "cell_type": "code",
   "execution_count": 27,
   "metadata": {},
   "outputs": [],
   "source": [
    "df['Key_Skills'] = [' '.join(map(str,l)) for l in df['Key_Skills']] "
   ]
  },
  {
   "cell_type": "code",
   "execution_count": 28,
   "metadata": {},
   "outputs": [],
   "source": [
    "# Role Category\n",
    "df[\"Functional_Area_merged\"] = df[\"Functional_Area_merged\"].apply(word_tok)\n",
    "df[\"Functional_Area_merged\"] = df[\"Functional_Area_merged\"].apply(remove_stopwords)\n",
    "df[\"Functional_Area_merged\"] = df[\"Functional_Area_merged\"].apply(remove_punctuations)\n",
    "df[\"Functional_Area_merged\"] = df[\"Functional_Area_merged\"].apply(remove_number)\n",
    "df[\"Functional_Area_merged\"] = df[\"Functional_Area_merged\"].apply(lemmatization)"
   ]
  },
  {
   "cell_type": "code",
   "execution_count": 29,
   "metadata": {},
   "outputs": [],
   "source": [
    "df['Functional_Area_merged'] = [' '.join(map(str,l)) for l in df['Functional_Area_merged']] "
   ]
  },
  {
   "cell_type": "code",
   "execution_count": 30,
   "metadata": {},
   "outputs": [],
   "source": [
    "# Location\n",
    "df[\"Location1\"] = df[\"Location1\"].apply(word_tok)\n",
    "df[\"Location1\"] = df[\"Location1\"].apply(remove_stopwords)\n",
    "df[\"Location1\"] = df[\"Location1\"].apply(remove_punctuations)\n",
    "df[\"Location1\"] = df[\"Location1\"].apply(remove_number)\n",
    "df[\"Location1\"] = df[\"Location1\"].apply(lemmatization)"
   ]
  },
  {
   "cell_type": "code",
   "execution_count": 31,
   "metadata": {},
   "outputs": [],
   "source": [
    "df['Location1'] = [' '.join(map(str,l)) for l in df['Location1']] "
   ]
  },
  {
   "cell_type": "code",
   "execution_count": 32,
   "metadata": {},
   "outputs": [
    {
     "data": {
      "text/html": [
       "<div>\n",
       "<style scoped>\n",
       "    .dataframe tbody tr th:only-of-type {\n",
       "        vertical-align: middle;\n",
       "    }\n",
       "\n",
       "    .dataframe tbody tr th {\n",
       "        vertical-align: top;\n",
       "    }\n",
       "\n",
       "    .dataframe thead th {\n",
       "        text-align: right;\n",
       "    }\n",
       "</style>\n",
       "<table border=\"1\" class=\"dataframe\">\n",
       "  <thead>\n",
       "    <tr style=\"text-align: right;\">\n",
       "      <th></th>\n",
       "      <th>Job_Title</th>\n",
       "      <th>Key_Skills</th>\n",
       "      <th>Location1</th>\n",
       "      <th>Functional_Area_merged</th>\n",
       "      <th>Job_Experience</th>\n",
       "      <th>Job_Salary</th>\n",
       "    </tr>\n",
       "  </thead>\n",
       "  <tbody>\n",
       "    <tr>\n",
       "      <th>6212</th>\n",
       "      <td>hcl technology hiring data scientist position ...</td>\n",
       "      <td>deep learning data management data science nat...</td>\n",
       "      <td>delhi ncr noida</td>\n",
       "      <td>programming design software application progra...</td>\n",
       "      <td>5</td>\n",
       "      <td>1</td>\n",
       "    </tr>\n",
       "    <tr>\n",
       "      <th>5951</th>\n",
       "      <td>aws azure technical lead</td>\n",
       "      <td>database administration architectural design t...</td>\n",
       "      <td>gurgaon</td>\n",
       "      <td>programming design software application progra...</td>\n",
       "      <td>5</td>\n",
       "      <td>1</td>\n",
       "    </tr>\n",
       "    <tr>\n",
       "      <th>5723</th>\n",
       "      <td>senior associate merger accquisition taxation</td>\n",
       "      <td>acquisition taxation merger</td>\n",
       "      <td>gurgaon</td>\n",
       "      <td>senior management account finance tax company ...</td>\n",
       "      <td>5</td>\n",
       "      <td>1</td>\n",
       "    </tr>\n",
       "    <tr>\n",
       "      <th>6234</th>\n",
       "      <td>city manager top retail brand mumbai</td>\n",
       "      <td>team management visual merchandising inventory...</td>\n",
       "      <td>mumbai</td>\n",
       "      <td>channel sale sale retail business development ...</td>\n",
       "      <td>5</td>\n",
       "      <td>1</td>\n",
       "    </tr>\n",
       "    <tr>\n",
       "      <th>5652</th>\n",
       "      <td>company secretary pitampura</td>\n",
       "      <td>company secretary secretarial activity charter...</td>\n",
       "      <td>delhi ncr</td>\n",
       "      <td>senior management account finance tax company ...</td>\n",
       "      <td>0</td>\n",
       "      <td>1</td>\n",
       "    </tr>\n",
       "    <tr>\n",
       "      <th>...</th>\n",
       "      <td>...</td>\n",
       "      <td>...</td>\n",
       "      <td>...</td>\n",
       "      <td>...</td>\n",
       "      <td>...</td>\n",
       "      <td>...</td>\n",
       "    </tr>\n",
       "    <tr>\n",
       "      <th>4192</th>\n",
       "      <td>business development manager bdo india vacancy</td>\n",
       "      <td>area manager sale distribution business manage...</td>\n",
       "      <td>delhi ncr bengaluru ludhiana</td>\n",
       "      <td>channel sale sale retail business development ...</td>\n",
       "      <td>2</td>\n",
       "      <td>0</td>\n",
       "    </tr>\n",
       "    <tr>\n",
       "      <th>4193</th>\n",
       "      <td>urgent walk in sale executive kolkata bhubnesh...</td>\n",
       "      <td>insurance pharma sale auto sale business devel...</td>\n",
       "      <td>kolkata guwahati ranchi</td>\n",
       "      <td>retail sale sale retail business development i...</td>\n",
       "      <td>2</td>\n",
       "      <td>0</td>\n",
       "    </tr>\n",
       "    <tr>\n",
       "      <th>4194</th>\n",
       "      <td>highway engineer highway design engineer bridg...</td>\n",
       "      <td>bridge design highway design highway engineeri...</td>\n",
       "      <td>delhi ncr</td>\n",
       "      <td>site engineering site engineering project mana...</td>\n",
       "      <td>3</td>\n",
       "      <td>0</td>\n",
       "    </tr>\n",
       "    <tr>\n",
       "      <th>4195</th>\n",
       "      <td>job opening raitan pvt ltd account admin ex ch...</td>\n",
       "      <td>account executive admin assistant administrati...</td>\n",
       "      <td>chennai</td>\n",
       "      <td>account account finance tax company secretary ...</td>\n",
       "      <td>3</td>\n",
       "      <td>0</td>\n",
       "    </tr>\n",
       "    <tr>\n",
       "      <th>4196</th>\n",
       "      <td>resource mobilization manager</td>\n",
       "      <td>customer relationship resource mobilization re...</td>\n",
       "      <td>bengaluru</td>\n",
       "      <td>operation process finance legal financial serv...</td>\n",
       "      <td>3</td>\n",
       "      <td>0</td>\n",
       "    </tr>\n",
       "  </tbody>\n",
       "</table>\n",
       "<p>20985 rows × 6 columns</p>\n",
       "</div>"
      ],
      "text/plain": [
       "                                              Job_Title  \\\n",
       "6212  hcl technology hiring data scientist position ...   \n",
       "5951                           aws azure technical lead   \n",
       "5723      senior associate merger accquisition taxation   \n",
       "6234               city manager top retail brand mumbai   \n",
       "5652                        company secretary pitampura   \n",
       "...                                                 ...   \n",
       "4192     business development manager bdo india vacancy   \n",
       "4193  urgent walk in sale executive kolkata bhubnesh...   \n",
       "4194  highway engineer highway design engineer bridg...   \n",
       "4195  job opening raitan pvt ltd account admin ex ch...   \n",
       "4196                      resource mobilization manager   \n",
       "\n",
       "                                             Key_Skills  \\\n",
       "6212  deep learning data management data science nat...   \n",
       "5951  database administration architectural design t...   \n",
       "5723                        acquisition taxation merger   \n",
       "6234  team management visual merchandising inventory...   \n",
       "5652  company secretary secretarial activity charter...   \n",
       "...                                                 ...   \n",
       "4192  area manager sale distribution business manage...   \n",
       "4193  insurance pharma sale auto sale business devel...   \n",
       "4194  bridge design highway design highway engineeri...   \n",
       "4195  account executive admin assistant administrati...   \n",
       "4196  customer relationship resource mobilization re...   \n",
       "\n",
       "                         Location1  \\\n",
       "6212               delhi ncr noida   \n",
       "5951                       gurgaon   \n",
       "5723                       gurgaon   \n",
       "6234                        mumbai   \n",
       "5652                     delhi ncr   \n",
       "...                            ...   \n",
       "4192  delhi ncr bengaluru ludhiana   \n",
       "4193       kolkata guwahati ranchi   \n",
       "4194                     delhi ncr   \n",
       "4195                       chennai   \n",
       "4196                     bengaluru   \n",
       "\n",
       "                                 Functional_Area_merged  Job_Experience  \\\n",
       "6212  programming design software application progra...               5   \n",
       "5951  programming design software application progra...               5   \n",
       "5723  senior management account finance tax company ...               5   \n",
       "6234  channel sale sale retail business development ...               5   \n",
       "5652  senior management account finance tax company ...               0   \n",
       "...                                                 ...             ...   \n",
       "4192  channel sale sale retail business development ...               2   \n",
       "4193  retail sale sale retail business development i...               2   \n",
       "4194  site engineering site engineering project mana...               3   \n",
       "4195  account account finance tax company secretary ...               3   \n",
       "4196  operation process finance legal financial serv...               3   \n",
       "\n",
       "      Job_Salary  \n",
       "6212           1  \n",
       "5951           1  \n",
       "5723           1  \n",
       "6234           1  \n",
       "5652           1  \n",
       "...          ...  \n",
       "4192           0  \n",
       "4193           0  \n",
       "4194           0  \n",
       "4195           0  \n",
       "4196           0  \n",
       "\n",
       "[20985 rows x 6 columns]"
      ]
     },
     "execution_count": 32,
     "metadata": {},
     "output_type": "execute_result"
    }
   ],
   "source": [
    "df"
   ]
  },
  {
   "cell_type": "code",
   "execution_count": 33,
   "metadata": {},
   "outputs": [
    {
     "name": "stdout",
     "output_type": "stream",
     "text": [
      "<class 'pandas.core.frame.DataFrame'>\n",
      "Int64Index: 20985 entries, 6212 to 4196\n",
      "Data columns (total 6 columns):\n",
      " #   Column                  Non-Null Count  Dtype \n",
      "---  ------                  --------------  ----- \n",
      " 0   Job_Title               20985 non-null  object\n",
      " 1   Key_Skills              20985 non-null  object\n",
      " 2   Location1               20985 non-null  object\n",
      " 3   Functional_Area_merged  20985 non-null  object\n",
      " 4   Job_Experience          20985 non-null  int32 \n",
      " 5   Job_Salary              20985 non-null  int32 \n",
      "dtypes: int32(2), object(4)\n",
      "memory usage: 983.7+ KB\n"
     ]
    }
   ],
   "source": [
    "df.info()"
   ]
  },
  {
   "cell_type": "code",
   "execution_count": 34,
   "metadata": {},
   "outputs": [],
   "source": [
    "from sklearn.feature_extraction.text import TfidfVectorizer\n",
    "from sklearn.pipeline import Pipeline\n",
    "from sklearn.model_selection import train_test_split\n",
    "from sklearn.metrics import accuracy_score, classification_report, confusion_matrix"
   ]
  },
  {
   "cell_type": "code",
   "execution_count": 35,
   "metadata": {},
   "outputs": [],
   "source": [
    "x_train = df.drop([\"Job_Salary\"],axis =1)"
   ]
  },
  {
   "cell_type": "code",
   "execution_count": 36,
   "metadata": {},
   "outputs": [
    {
     "data": {
      "text/html": [
       "<div>\n",
       "<style scoped>\n",
       "    .dataframe tbody tr th:only-of-type {\n",
       "        vertical-align: middle;\n",
       "    }\n",
       "\n",
       "    .dataframe tbody tr th {\n",
       "        vertical-align: top;\n",
       "    }\n",
       "\n",
       "    .dataframe thead th {\n",
       "        text-align: right;\n",
       "    }\n",
       "</style>\n",
       "<table border=\"1\" class=\"dataframe\">\n",
       "  <thead>\n",
       "    <tr style=\"text-align: right;\">\n",
       "      <th></th>\n",
       "      <th>Job_Title</th>\n",
       "      <th>Key_Skills</th>\n",
       "      <th>Location1</th>\n",
       "      <th>Functional_Area_merged</th>\n",
       "      <th>Job_Experience</th>\n",
       "    </tr>\n",
       "  </thead>\n",
       "  <tbody>\n",
       "    <tr>\n",
       "      <th>6212</th>\n",
       "      <td>hcl technology hiring data scientist position ...</td>\n",
       "      <td>deep learning data management data science nat...</td>\n",
       "      <td>delhi ncr noida</td>\n",
       "      <td>programming design software application progra...</td>\n",
       "      <td>5</td>\n",
       "    </tr>\n",
       "    <tr>\n",
       "      <th>5951</th>\n",
       "      <td>aws azure technical lead</td>\n",
       "      <td>database administration architectural design t...</td>\n",
       "      <td>gurgaon</td>\n",
       "      <td>programming design software application progra...</td>\n",
       "      <td>5</td>\n",
       "    </tr>\n",
       "    <tr>\n",
       "      <th>5723</th>\n",
       "      <td>senior associate merger accquisition taxation</td>\n",
       "      <td>acquisition taxation merger</td>\n",
       "      <td>gurgaon</td>\n",
       "      <td>senior management account finance tax company ...</td>\n",
       "      <td>5</td>\n",
       "    </tr>\n",
       "    <tr>\n",
       "      <th>6234</th>\n",
       "      <td>city manager top retail brand mumbai</td>\n",
       "      <td>team management visual merchandising inventory...</td>\n",
       "      <td>mumbai</td>\n",
       "      <td>channel sale sale retail business development ...</td>\n",
       "      <td>5</td>\n",
       "    </tr>\n",
       "    <tr>\n",
       "      <th>5652</th>\n",
       "      <td>company secretary pitampura</td>\n",
       "      <td>company secretary secretarial activity charter...</td>\n",
       "      <td>delhi ncr</td>\n",
       "      <td>senior management account finance tax company ...</td>\n",
       "      <td>0</td>\n",
       "    </tr>\n",
       "    <tr>\n",
       "      <th>...</th>\n",
       "      <td>...</td>\n",
       "      <td>...</td>\n",
       "      <td>...</td>\n",
       "      <td>...</td>\n",
       "      <td>...</td>\n",
       "    </tr>\n",
       "    <tr>\n",
       "      <th>4192</th>\n",
       "      <td>business development manager bdo india vacancy</td>\n",
       "      <td>area manager sale distribution business manage...</td>\n",
       "      <td>delhi ncr bengaluru ludhiana</td>\n",
       "      <td>channel sale sale retail business development ...</td>\n",
       "      <td>2</td>\n",
       "    </tr>\n",
       "    <tr>\n",
       "      <th>4193</th>\n",
       "      <td>urgent walk in sale executive kolkata bhubnesh...</td>\n",
       "      <td>insurance pharma sale auto sale business devel...</td>\n",
       "      <td>kolkata guwahati ranchi</td>\n",
       "      <td>retail sale sale retail business development i...</td>\n",
       "      <td>2</td>\n",
       "    </tr>\n",
       "    <tr>\n",
       "      <th>4194</th>\n",
       "      <td>highway engineer highway design engineer bridg...</td>\n",
       "      <td>bridge design highway design highway engineeri...</td>\n",
       "      <td>delhi ncr</td>\n",
       "      <td>site engineering site engineering project mana...</td>\n",
       "      <td>3</td>\n",
       "    </tr>\n",
       "    <tr>\n",
       "      <th>4195</th>\n",
       "      <td>job opening raitan pvt ltd account admin ex ch...</td>\n",
       "      <td>account executive admin assistant administrati...</td>\n",
       "      <td>chennai</td>\n",
       "      <td>account account finance tax company secretary ...</td>\n",
       "      <td>3</td>\n",
       "    </tr>\n",
       "    <tr>\n",
       "      <th>4196</th>\n",
       "      <td>resource mobilization manager</td>\n",
       "      <td>customer relationship resource mobilization re...</td>\n",
       "      <td>bengaluru</td>\n",
       "      <td>operation process finance legal financial serv...</td>\n",
       "      <td>3</td>\n",
       "    </tr>\n",
       "  </tbody>\n",
       "</table>\n",
       "<p>20985 rows × 5 columns</p>\n",
       "</div>"
      ],
      "text/plain": [
       "                                              Job_Title  \\\n",
       "6212  hcl technology hiring data scientist position ...   \n",
       "5951                           aws azure technical lead   \n",
       "5723      senior associate merger accquisition taxation   \n",
       "6234               city manager top retail brand mumbai   \n",
       "5652                        company secretary pitampura   \n",
       "...                                                 ...   \n",
       "4192     business development manager bdo india vacancy   \n",
       "4193  urgent walk in sale executive kolkata bhubnesh...   \n",
       "4194  highway engineer highway design engineer bridg...   \n",
       "4195  job opening raitan pvt ltd account admin ex ch...   \n",
       "4196                      resource mobilization manager   \n",
       "\n",
       "                                             Key_Skills  \\\n",
       "6212  deep learning data management data science nat...   \n",
       "5951  database administration architectural design t...   \n",
       "5723                        acquisition taxation merger   \n",
       "6234  team management visual merchandising inventory...   \n",
       "5652  company secretary secretarial activity charter...   \n",
       "...                                                 ...   \n",
       "4192  area manager sale distribution business manage...   \n",
       "4193  insurance pharma sale auto sale business devel...   \n",
       "4194  bridge design highway design highway engineeri...   \n",
       "4195  account executive admin assistant administrati...   \n",
       "4196  customer relationship resource mobilization re...   \n",
       "\n",
       "                         Location1  \\\n",
       "6212               delhi ncr noida   \n",
       "5951                       gurgaon   \n",
       "5723                       gurgaon   \n",
       "6234                        mumbai   \n",
       "5652                     delhi ncr   \n",
       "...                            ...   \n",
       "4192  delhi ncr bengaluru ludhiana   \n",
       "4193       kolkata guwahati ranchi   \n",
       "4194                     delhi ncr   \n",
       "4195                       chennai   \n",
       "4196                     bengaluru   \n",
       "\n",
       "                                 Functional_Area_merged  Job_Experience  \n",
       "6212  programming design software application progra...               5  \n",
       "5951  programming design software application progra...               5  \n",
       "5723  senior management account finance tax company ...               5  \n",
       "6234  channel sale sale retail business development ...               5  \n",
       "5652  senior management account finance tax company ...               0  \n",
       "...                                                 ...             ...  \n",
       "4192  channel sale sale retail business development ...               2  \n",
       "4193  retail sale sale retail business development i...               2  \n",
       "4194  site engineering site engineering project mana...               3  \n",
       "4195  account account finance tax company secretary ...               3  \n",
       "4196  operation process finance legal financial serv...               3  \n",
       "\n",
       "[20985 rows x 5 columns]"
      ]
     },
     "execution_count": 36,
     "metadata": {},
     "output_type": "execute_result"
    }
   ],
   "source": [
    "x_train"
   ]
  },
  {
   "cell_type": "code",
   "execution_count": 37,
   "metadata": {},
   "outputs": [],
   "source": [
    "y_train = df[\"Job_Salary\"].astype(int)"
   ]
  },
  {
   "cell_type": "code",
   "execution_count": 38,
   "metadata": {},
   "outputs": [
    {
     "data": {
      "text/plain": [
       "6212    1\n",
       "5951    1\n",
       "5723    1\n",
       "6234    1\n",
       "5652    1\n",
       "       ..\n",
       "4192    0\n",
       "4193    0\n",
       "4194    0\n",
       "4195    0\n",
       "4196    0\n",
       "Name: Job_Salary, Length: 20985, dtype: int32"
      ]
     },
     "execution_count": 38,
     "metadata": {},
     "output_type": "execute_result"
    }
   ],
   "source": [
    "y_train"
   ]
  },
  {
   "cell_type": "code",
   "execution_count": 39,
   "metadata": {},
   "outputs": [
    {
     "data": {
      "text/html": [
       "<div>\n",
       "<style scoped>\n",
       "    .dataframe tbody tr th:only-of-type {\n",
       "        vertical-align: middle;\n",
       "    }\n",
       "\n",
       "    .dataframe tbody tr th {\n",
       "        vertical-align: top;\n",
       "    }\n",
       "\n",
       "    .dataframe thead th {\n",
       "        text-align: right;\n",
       "    }\n",
       "</style>\n",
       "<table border=\"1\" class=\"dataframe\">\n",
       "  <thead>\n",
       "    <tr style=\"text-align: right;\">\n",
       "      <th></th>\n",
       "      <th>Job_Salary</th>\n",
       "    </tr>\n",
       "  </thead>\n",
       "  <tbody>\n",
       "    <tr>\n",
       "      <th>6212</th>\n",
       "      <td>1</td>\n",
       "    </tr>\n",
       "    <tr>\n",
       "      <th>5951</th>\n",
       "      <td>1</td>\n",
       "    </tr>\n",
       "    <tr>\n",
       "      <th>5723</th>\n",
       "      <td>1</td>\n",
       "    </tr>\n",
       "    <tr>\n",
       "      <th>6234</th>\n",
       "      <td>1</td>\n",
       "    </tr>\n",
       "    <tr>\n",
       "      <th>5652</th>\n",
       "      <td>1</td>\n",
       "    </tr>\n",
       "    <tr>\n",
       "      <th>...</th>\n",
       "      <td>...</td>\n",
       "    </tr>\n",
       "    <tr>\n",
       "      <th>4192</th>\n",
       "      <td>0</td>\n",
       "    </tr>\n",
       "    <tr>\n",
       "      <th>4193</th>\n",
       "      <td>0</td>\n",
       "    </tr>\n",
       "    <tr>\n",
       "      <th>4194</th>\n",
       "      <td>0</td>\n",
       "    </tr>\n",
       "    <tr>\n",
       "      <th>4195</th>\n",
       "      <td>0</td>\n",
       "    </tr>\n",
       "    <tr>\n",
       "      <th>4196</th>\n",
       "      <td>0</td>\n",
       "    </tr>\n",
       "  </tbody>\n",
       "</table>\n",
       "<p>20985 rows × 1 columns</p>\n",
       "</div>"
      ],
      "text/plain": [
       "      Job_Salary\n",
       "6212           1\n",
       "5951           1\n",
       "5723           1\n",
       "6234           1\n",
       "5652           1\n",
       "...          ...\n",
       "4192           0\n",
       "4193           0\n",
       "4194           0\n",
       "4195           0\n",
       "4196           0\n",
       "\n",
       "[20985 rows x 1 columns]"
      ]
     },
     "execution_count": 39,
     "metadata": {},
     "output_type": "execute_result"
    }
   ],
   "source": [
    "y_train = pd.DataFrame(y_train)\n",
    "y_train"
   ]
  },
  {
   "cell_type": "code",
   "execution_count": 40,
   "metadata": {},
   "outputs": [],
   "source": [
    "tfidf = TfidfVectorizer()\n"
   ]
  },
  {
   "cell_type": "code",
   "execution_count": 41,
   "metadata": {},
   "outputs": [],
   "source": [
    "tfidf = TfidfVectorizer(max_features = 500, \n",
    "                              ngram_range = (1,3),\n",
    "                              stop_words = \"english\")\n",
    "X_Job_Title = tfidf.fit_transform(x_train[\"Job_Title\"].tolist())\n",
    "\n",
    "tfidf = TfidfVectorizer(max_features = 500, \n",
    "                              ngram_range = (1,3),\n",
    "                              stop_words = \"english\")\n",
    "X_Key_Skills = tfidf.fit_transform(x_train[\"Key_Skills\"].tolist())\n",
    "\n",
    "tfidf = TfidfVectorizer(max_features = 500, \n",
    "                              ngram_range = (1,3),\n",
    "                              stop_words = \"english\")\n",
    "X_Functional_Area_merged = tfidf.fit_transform(x_train[\"Functional_Area_merged\"].tolist())\n",
    "\n",
    "tfidf = TfidfVectorizer(max_features = 500, \n",
    "                              ngram_range = (1,3),\n",
    "                              stop_words = \"english\")\n",
    "X_Location1 = tfidf.fit_transform(x_train[\"Location1\"].tolist())\n",
    "\n"
   ]
  },
  {
   "cell_type": "code",
   "execution_count": 42,
   "metadata": {},
   "outputs": [],
   "source": [
    "import scipy\n",
    "X = scipy.sparse.hstack((X_Job_Title, \n",
    "                         X_Key_Skills,\n",
    "                         X_Functional_Area_merged,\n",
    "                         X_Location1,\n",
    "                        x_train[[\"Job_Experience\"]].to_numpy())).tocsr()"
   ]
  },
  {
   "cell_type": "code",
   "execution_count": 43,
   "metadata": {},
   "outputs": [],
   "source": [
    "X_train,X_test,Y_train,Y_test = train_test_split(X,y_train,test_size = 0.33, random_state = 1)"
   ]
  },
  {
   "cell_type": "code",
   "execution_count": 44,
   "metadata": {},
   "outputs": [
    {
     "data": {
      "text/plain": [
       "(14059, 2001)"
      ]
     },
     "execution_count": 44,
     "metadata": {},
     "output_type": "execute_result"
    }
   ],
   "source": [
    "X_train.shape"
   ]
  },
  {
   "cell_type": "code",
   "execution_count": 45,
   "metadata": {},
   "outputs": [
    {
     "data": {
      "text/plain": [
       "(14059, 1)"
      ]
     },
     "execution_count": 45,
     "metadata": {},
     "output_type": "execute_result"
    }
   ],
   "source": [
    "Y_train.shape"
   ]
  },
  {
   "cell_type": "code",
   "execution_count": 46,
   "metadata": {},
   "outputs": [
    {
     "data": {
      "text/plain": [
       "(6926, 2001)"
      ]
     },
     "execution_count": 46,
     "metadata": {},
     "output_type": "execute_result"
    }
   ],
   "source": [
    "X_test.shape"
   ]
  },
  {
   "cell_type": "code",
   "execution_count": 47,
   "metadata": {},
   "outputs": [
    {
     "data": {
      "text/plain": [
       "(6926, 1)"
      ]
     },
     "execution_count": 47,
     "metadata": {},
     "output_type": "execute_result"
    }
   ],
   "source": [
    "Y_test.shape"
   ]
  },
  {
   "cell_type": "markdown",
   "metadata": {},
   "source": [
    "These are the models we are testing for our prediction\n",
    "1. LogisticRegression\n",
    "2.DecisionTreeClassifier\n",
    "3.RandomForestClassifier\n",
    "4.AdaBoostClassifier\n",
    "5.GradientBoostingClassifier\n",
    "6.XGBClassifier\n",
    "7.LGBMClassifier\n",
    "8.KNeighborsClassifier\n"
   ]
  },
  {
   "cell_type": "markdown",
   "metadata": {},
   "source": [
    "1. LogisticRegression"
   ]
  },
  {
   "cell_type": "code",
   "execution_count": 48,
   "metadata": {},
   "outputs": [
    {
     "name": "stdout",
     "output_type": "stream",
     "text": [
      "Wall time: 2.61 s\n"
     ]
    },
    {
     "data": {
      "text/plain": [
       "LogisticRegression()"
      ]
     },
     "execution_count": 48,
     "metadata": {},
     "output_type": "execute_result"
    }
   ],
   "source": [
    "%%time\n",
    "logistic_model = LogisticRegression()\n",
    "logistic_model.fit(X_train,Y_train)"
   ]
  },
  {
   "cell_type": "code",
   "execution_count": 49,
   "metadata": {},
   "outputs": [
    {
     "name": "stdout",
     "output_type": "stream",
     "text": [
      "Accuracy Score                 : 0.8816\n",
      "Precision Score                : 0.8816\n",
      "Recall Score                   : 0.8816\n",
      "Confusion Matrix               :\n",
      " [[2411   93   19  302    0]\n",
      " [  81 2299   84  311    0]\n",
      " [   0    0 2791   16    0]\n",
      " [ 331  385   43 2053    0]\n",
      " [   0    0    0    0 2840]]\n",
      "Classification Report          :\n",
      "               precision    recall  f1-score   support\n",
      "\n",
      "           0       0.85      0.85      0.85      2825\n",
      "           1       0.83      0.83      0.83      2775\n",
      "           2       0.95      0.99      0.97      2807\n",
      "           3       0.77      0.73      0.75      2812\n",
      "           4       1.00      1.00      1.00      2840\n",
      "\n",
      "    accuracy                           0.88     14059\n",
      "   macro avg       0.88      0.88      0.88     14059\n",
      "weighted avg       0.88      0.88      0.88     14059\n",
      "\n"
     ]
    }
   ],
   "source": [
    "logistic_pred_train = logistic_model.predict(X_train)\n",
    "print('Accuracy Score                 :',round(accuracy_score(Y_train,logistic_pred_train),4))\n",
    "print('Precision Score                :',round(precision_score(Y_train,logistic_pred_train,average='micro'),4))\n",
    "print('Recall Score                   :',round(recall_score(Y_train,logistic_pred_train,average='micro'),4))\n",
    "print('Confusion Matrix               :\\n',confusion_matrix(Y_train,logistic_pred_train))\n",
    "print('Classification Report          :\\n',classification_report(Y_train,logistic_pred_train))"
   ]
  },
  {
   "cell_type": "code",
   "execution_count": 50,
   "metadata": {},
   "outputs": [
    {
     "name": "stdout",
     "output_type": "stream",
     "text": [
      "Accuracy Score                 : 0.829\n",
      "Precision Score                : 0.829\n",
      "Recall Score                   : 0.829\n",
      "Confusion Matrix               :\n",
      " [[1108   57   18  189    0]\n",
      " [  68 1060   69  225    0]\n",
      " [   0    0 1374   16    0]\n",
      " [ 227  274   41  843    0]\n",
      " [   0    0    0    0 1357]]\n",
      "Classification Report          :\n",
      "               precision    recall  f1-score   support\n",
      "\n",
      "           0       0.79      0.81      0.80      1372\n",
      "           1       0.76      0.75      0.75      1422\n",
      "           2       0.91      0.99      0.95      1390\n",
      "           3       0.66      0.61      0.63      1385\n",
      "           4       1.00      1.00      1.00      1357\n",
      "\n",
      "    accuracy                           0.83      6926\n",
      "   macro avg       0.83      0.83      0.83      6926\n",
      "weighted avg       0.82      0.83      0.83      6926\n",
      "\n"
     ]
    }
   ],
   "source": [
    "logistic_pred_test = logistic_model.predict(X_test)\n",
    "print('Accuracy Score                 :',round(accuracy_score(Y_test,logistic_pred_test),4))\n",
    "print('Precision Score                :',round(precision_score(Y_test,logistic_pred_test,average='micro'),4))\n",
    "print('Recall Score                   :',round(recall_score(Y_test,logistic_pred_test,average='micro'),4))\n",
    "print('Confusion Matrix               :\\n',confusion_matrix(Y_test,logistic_pred_test))\n",
    "print('Classification Report          :\\n',classification_report(Y_test,logistic_pred_test))"
   ]
  },
  {
   "cell_type": "markdown",
   "metadata": {},
   "source": [
    "2.DecisionTreeClassifier"
   ]
  },
  {
   "cell_type": "code",
   "execution_count": 51,
   "metadata": {},
   "outputs": [
    {
     "name": "stdout",
     "output_type": "stream",
     "text": [
      "Wall time: 2.08 s\n"
     ]
    },
    {
     "data": {
      "text/plain": [
       "DecisionTreeClassifier(max_depth=57, random_state=15)"
      ]
     },
     "execution_count": 51,
     "metadata": {},
     "output_type": "execute_result"
    }
   ],
   "source": [
    "%%time\n",
    "dt_model = DecisionTreeClassifier(random_state=15,max_depth=57)\n",
    "dt_model.fit(X_train,Y_train)"
   ]
  },
  {
   "cell_type": "code",
   "execution_count": 52,
   "metadata": {},
   "outputs": [
    {
     "name": "stdout",
     "output_type": "stream",
     "text": [
      "Accuracy Score                 : 0.992\n",
      "Precision Score                : 0.992\n",
      "Recall Score                   : 0.992\n",
      "Confusion Matrix               :\n",
      " [[2789    1    0   35    0]\n",
      " [   3 2741    0   31    0]\n",
      " [   0    0 2807    0    0]\n",
      " [  35    7    0 2770    0]\n",
      " [   0    0    0    0 2840]]\n",
      "Classification Report          :\n",
      "               precision    recall  f1-score   support\n",
      "\n",
      "           0       0.99      0.99      0.99      2825\n",
      "           1       1.00      0.99      0.99      2775\n",
      "           2       1.00      1.00      1.00      2807\n",
      "           3       0.98      0.99      0.98      2812\n",
      "           4       1.00      1.00      1.00      2840\n",
      "\n",
      "    accuracy                           0.99     14059\n",
      "   macro avg       0.99      0.99      0.99     14059\n",
      "weighted avg       0.99      0.99      0.99     14059\n",
      "\n"
     ]
    }
   ],
   "source": [
    "dt_pred_train = dt_model.predict(X_train)\n",
    "print('Accuracy Score                 :',round(accuracy_score(Y_train,dt_pred_train),4))\n",
    "print('Precision Score                :',round(precision_score(Y_train,dt_pred_train,average='micro'),4))\n",
    "print('Recall Score                   :',round(recall_score(Y_train,dt_pred_train,average='micro'),4))\n",
    "print('Confusion Matrix               :\\n',confusion_matrix(Y_train,dt_pred_train))\n",
    "print('Classification Report          :\\n',classification_report(Y_train,dt_pred_train))\n"
   ]
  },
  {
   "cell_type": "code",
   "execution_count": 53,
   "metadata": {},
   "outputs": [
    {
     "name": "stdout",
     "output_type": "stream",
     "text": [
      "Accuracy Score                 : 0.9339\n",
      "Precision Score                : 0.9339\n",
      "Recall Score                   : 0.9339\n",
      "Confusion Matrix               :\n",
      " [[1118   55    5  194    0]\n",
      " [  21 1327   11   60    3]\n",
      " [   0    0 1390    0    0]\n",
      " [  63   44    2 1276    0]\n",
      " [   0    0    0    0 1357]]\n",
      "Classification Report          :\n",
      "               precision    recall  f1-score   support\n",
      "\n",
      "           0       0.93      0.81      0.87      1372\n",
      "           1       0.93      0.93      0.93      1422\n",
      "           2       0.99      1.00      0.99      1390\n",
      "           3       0.83      0.92      0.88      1385\n",
      "           4       1.00      1.00      1.00      1357\n",
      "\n",
      "    accuracy                           0.93      6926\n",
      "   macro avg       0.94      0.93      0.93      6926\n",
      "weighted avg       0.94      0.93      0.93      6926\n",
      "\n"
     ]
    }
   ],
   "source": [
    "dt_pred_test = dt_model.predict(X_test)\n",
    "print('Accuracy Score                 :',round(accuracy_score(Y_test,dt_pred_test),4))\n",
    "print('Precision Score                :',round(precision_score(Y_test,dt_pred_test,average='micro'),4))\n",
    "print('Recall Score                   :',round(recall_score(Y_test,dt_pred_test,average='micro'),4))\n",
    "print('Confusion Matrix               :\\n',confusion_matrix(Y_test,dt_pred_test))\n",
    "print('Classification Report          :\\n',classification_report(Y_test,dt_pred_test))"
   ]
  },
  {
   "cell_type": "markdown",
   "metadata": {},
   "source": [
    "3. RandomForestClassifier"
   ]
  },
  {
   "cell_type": "code",
   "execution_count": 54,
   "metadata": {},
   "outputs": [
    {
     "name": "stdout",
     "output_type": "stream",
     "text": [
      "Wall time: 11.2 s\n"
     ]
    },
    {
     "data": {
      "text/plain": [
       "RandomForestClassifier(max_depth=57, random_state=15)"
      ]
     },
     "execution_count": 54,
     "metadata": {},
     "output_type": "execute_result"
    }
   ],
   "source": [
    "%%time\n",
    "rf_model = RandomForestClassifier(random_state=15,max_depth=57)\n",
    "rf_model.fit(X_train,Y_train)"
   ]
  },
  {
   "cell_type": "code",
   "execution_count": 55,
   "metadata": {},
   "outputs": [
    {
     "name": "stdout",
     "output_type": "stream",
     "text": [
      "Accuracy Score                 : 0.9979\n",
      "Precision Score                : 0.9979\n",
      "Recall Score                   : 0.9979\n",
      "Confusion Matrix               :\n",
      " [[2817    3    0    5    0]\n",
      " [   0 2774    0    1    0]\n",
      " [   0    0 2807    0    0]\n",
      " [  20    1    0 2791    0]\n",
      " [   0    0    0    0 2840]]\n",
      "Classification Report          :\n",
      "               precision    recall  f1-score   support\n",
      "\n",
      "           0       0.99      1.00      1.00      2825\n",
      "           1       1.00      1.00      1.00      2775\n",
      "           2       1.00      1.00      1.00      2807\n",
      "           3       1.00      0.99      1.00      2812\n",
      "           4       1.00      1.00      1.00      2840\n",
      "\n",
      "    accuracy                           1.00     14059\n",
      "   macro avg       1.00      1.00      1.00     14059\n",
      "weighted avg       1.00      1.00      1.00     14059\n",
      "\n"
     ]
    }
   ],
   "source": [
    "rf_pred_train = rf_model.predict(X_train)\n",
    "print('Accuracy Score                 :',round(accuracy_score(Y_train,rf_pred_train),4))\n",
    "print('Precision Score                :',round(precision_score(Y_train,rf_pred_train,average='micro'),4))\n",
    "print('Recall Score                   :',round(recall_score(Y_train,rf_pred_train,average='micro'),4))\n",
    "print('Confusion Matrix               :\\n',confusion_matrix(Y_train,rf_pred_train))\n",
    "print('Classification Report          :\\n',classification_report(Y_train,rf_pred_train))"
   ]
  },
  {
   "cell_type": "code",
   "execution_count": 56,
   "metadata": {},
   "outputs": [
    {
     "name": "stdout",
     "output_type": "stream",
     "text": [
      "Accuracy Score                 : 0.9513\n",
      "Precision Score                : 0.9513\n",
      "Recall Score                   : 0.9513\n",
      "Confusion Matrix               :\n",
      " [[1173   35    1  163    0]\n",
      " [  11 1372    9   30    0]\n",
      " [   0    0 1390    0    0]\n",
      " [  47   41    0 1297    0]\n",
      " [   0    0    0    0 1357]]\n",
      "Classification Report          :\n",
      "               precision    recall  f1-score   support\n",
      "\n",
      "           0       0.95      0.85      0.90      1372\n",
      "           1       0.95      0.96      0.96      1422\n",
      "           2       0.99      1.00      1.00      1390\n",
      "           3       0.87      0.94      0.90      1385\n",
      "           4       1.00      1.00      1.00      1357\n",
      "\n",
      "    accuracy                           0.95      6926\n",
      "   macro avg       0.95      0.95      0.95      6926\n",
      "weighted avg       0.95      0.95      0.95      6926\n",
      "\n"
     ]
    }
   ],
   "source": [
    "rf_pred_test = rf_model.predict(X_test)\n",
    "print('Accuracy Score                 :',round(accuracy_score(Y_test,rf_pred_test),4))\n",
    "print('Precision Score                :',round(precision_score(Y_test,rf_pred_test,average='micro'),4))\n",
    "print('Recall Score                   :',round(recall_score(Y_test,rf_pred_test,average='micro'),4))\n",
    "print('Confusion Matrix               :\\n',confusion_matrix(Y_test,rf_pred_test))\n",
    "print('Classification Report          :\\n',classification_report(Y_test,rf_pred_test))"
   ]
  },
  {
   "cell_type": "markdown",
   "metadata": {},
   "source": [
    "4. AdaBoostClassifier"
   ]
  },
  {
   "cell_type": "code",
   "execution_count": 57,
   "metadata": {},
   "outputs": [
    {
     "name": "stdout",
     "output_type": "stream",
     "text": [
      "Wall time: 2.87 s\n"
     ]
    },
    {
     "data": {
      "text/plain": [
       "AdaBoostClassifier(random_state=15)"
      ]
     },
     "execution_count": 57,
     "metadata": {},
     "output_type": "execute_result"
    }
   ],
   "source": [
    "%%time\n",
    "adaboost_model = AdaBoostClassifier(random_state=15)\n",
    "adaboost_model.fit(X_train,Y_train)"
   ]
  },
  {
   "cell_type": "code",
   "execution_count": 58,
   "metadata": {},
   "outputs": [
    {
     "name": "stdout",
     "output_type": "stream",
     "text": [
      "Accuracy Score                 : 0.5719\n",
      "Precision Score                : 0.5719\n",
      "Recall Score                   : 0.5719\n",
      "Confusion Matrix               :\n",
      " [[2144  631   27   23    0]\n",
      " [ 236 1876  650    6    7]\n",
      " [ 129  574 2104    0    0]\n",
      " [ 908 1774   96   34    0]\n",
      " [   0  288  669    0 1883]]\n",
      "Classification Report          :\n",
      "               precision    recall  f1-score   support\n",
      "\n",
      "           0       0.63      0.76      0.69      2825\n",
      "           1       0.36      0.68      0.47      2775\n",
      "           2       0.59      0.75      0.66      2807\n",
      "           3       0.54      0.01      0.02      2812\n",
      "           4       1.00      0.66      0.80      2840\n",
      "\n",
      "    accuracy                           0.57     14059\n",
      "   macro avg       0.62      0.57      0.53     14059\n",
      "weighted avg       0.63      0.57      0.53     14059\n",
      "\n"
     ]
    }
   ],
   "source": [
    "adaboost_pred_train = adaboost_model.predict(X_train)\n",
    "print('Accuracy Score                 :',round(accuracy_score(Y_train,adaboost_pred_train),4))\n",
    "print('Precision Score                :',round(precision_score(Y_train,adaboost_pred_train,average='micro'),4))\n",
    "print('Recall Score                   :',round(recall_score(Y_train,adaboost_pred_train,average='micro'),4))\n",
    "print('Confusion Matrix               :\\n',confusion_matrix(Y_train,adaboost_pred_train))\n",
    "print('Classification Report          :\\n',classification_report(Y_train,adaboost_pred_train))"
   ]
  },
  {
   "cell_type": "code",
   "execution_count": 59,
   "metadata": {},
   "outputs": [
    {
     "name": "stdout",
     "output_type": "stream",
     "text": [
      "Accuracy Score                 : 0.5744\n",
      "Precision Score                : 0.5744\n",
      "Recall Score                   : 0.5744\n",
      "Confusion Matrix               :\n",
      " [[1024  316   17   15    0]\n",
      " [ 131  973  314    3    1]\n",
      " [  60  260 1070    0    0]\n",
      " [ 470  839   56   20    0]\n",
      " [   0  147  319    0  891]]\n",
      "Classification Report          :\n",
      "               precision    recall  f1-score   support\n",
      "\n",
      "           0       0.61      0.75      0.67      1372\n",
      "           1       0.38      0.68      0.49      1422\n",
      "           2       0.60      0.77      0.68      1390\n",
      "           3       0.53      0.01      0.03      1385\n",
      "           4       1.00      0.66      0.79      1357\n",
      "\n",
      "    accuracy                           0.57      6926\n",
      "   macro avg       0.62      0.57      0.53      6926\n",
      "weighted avg       0.62      0.57      0.53      6926\n",
      "\n"
     ]
    }
   ],
   "source": [
    "adaboost_pred_test = adaboost_model.predict(X_test)\n",
    "print('Accuracy Score                 :',round(accuracy_score(Y_test,adaboost_pred_test),4))\n",
    "print('Precision Score                :',round(precision_score(Y_test,adaboost_pred_test,average='micro'),4))\n",
    "print('Recall Score                   :',round(recall_score(Y_test,adaboost_pred_test,average='micro'),4))\n",
    "print('Confusion Matrix               :\\n',confusion_matrix(Y_test,adaboost_pred_test))\n",
    "print('Classification Report          :\\n',classification_report(Y_test,adaboost_pred_test))"
   ]
  },
  {
   "cell_type": "markdown",
   "metadata": {},
   "source": [
    "5. GradientBoostingClassifier"
   ]
  },
  {
   "cell_type": "code",
   "execution_count": 60,
   "metadata": {},
   "outputs": [
    {
     "name": "stdout",
     "output_type": "stream",
     "text": [
      "Wall time: 45.7 s\n"
     ]
    },
    {
     "data": {
      "text/plain": [
       "GradientBoostingClassifier(random_state=15)"
      ]
     },
     "execution_count": 60,
     "metadata": {},
     "output_type": "execute_result"
    }
   ],
   "source": [
    "%%time\n",
    "gradient_model = GradientBoostingClassifier(random_state=15)\n",
    "gradient_model.fit(X_train,Y_train)"
   ]
  },
  {
   "cell_type": "code",
   "execution_count": 61,
   "metadata": {},
   "outputs": [
    {
     "name": "stdout",
     "output_type": "stream",
     "text": [
      "Accuracy Score                 : 0.859\n",
      "Precision Score                : 0.859\n",
      "Recall Score                   : 0.859\n",
      "Confusion Matrix               :\n",
      " [[2432   38    3  352    0]\n",
      " [ 110 1989  200  467    9]\n",
      " [   0   16 2791    0    0]\n",
      " [ 380  370   37 2025    0]\n",
      " [   0    0    0    0 2840]]\n",
      "Classification Report          :\n",
      "               precision    recall  f1-score   support\n",
      "\n",
      "           0       0.83      0.86      0.85      2825\n",
      "           1       0.82      0.72      0.77      2775\n",
      "           2       0.92      0.99      0.96      2807\n",
      "           3       0.71      0.72      0.72      2812\n",
      "           4       1.00      1.00      1.00      2840\n",
      "\n",
      "    accuracy                           0.86     14059\n",
      "   macro avg       0.86      0.86      0.86     14059\n",
      "weighted avg       0.86      0.86      0.86     14059\n",
      "\n"
     ]
    }
   ],
   "source": [
    "gradient_pred_train = gradient_model.predict(X_train)\n",
    "print('Accuracy Score                 :',round(accuracy_score(Y_train,gradient_pred_train),4))\n",
    "print('Precision Score                :',round(precision_score(Y_train,gradient_pred_train,average='micro'),4))\n",
    "print('Recall Score                   :',round(recall_score(Y_train,gradient_pred_train,average='micro'),4))\n",
    "print('Confusion Matrix               :\\n',confusion_matrix(Y_train,gradient_pred_train))\n",
    "print('Classification Report          :\\n',classification_report(Y_train,gradient_pred_train))"
   ]
  },
  {
   "cell_type": "code",
   "execution_count": 62,
   "metadata": {},
   "outputs": [
    {
     "name": "stdout",
     "output_type": "stream",
     "text": [
      "Accuracy Score                 : 0.8201\n",
      "Precision Score                : 0.8201\n",
      "Recall Score                   : 0.8201\n",
      "Confusion Matrix               :\n",
      " [[1116   25    5  226    0]\n",
      " [  67  955  111  283    6]\n",
      " [   0   16 1374    0    0]\n",
      " [ 249  230   28  878    0]\n",
      " [   0    0    0    0 1357]]\n",
      "Classification Report          :\n",
      "               precision    recall  f1-score   support\n",
      "\n",
      "           0       0.78      0.81      0.80      1372\n",
      "           1       0.78      0.67      0.72      1422\n",
      "           2       0.91      0.99      0.94      1390\n",
      "           3       0.63      0.63      0.63      1385\n",
      "           4       1.00      1.00      1.00      1357\n",
      "\n",
      "    accuracy                           0.82      6926\n",
      "   macro avg       0.82      0.82      0.82      6926\n",
      "weighted avg       0.82      0.82      0.82      6926\n",
      "\n"
     ]
    }
   ],
   "source": [
    "gradient_pred_test = gradient_model.predict(X_test)\n",
    "print('Accuracy Score                 :',round(accuracy_score(Y_test,gradient_pred_test),4))\n",
    "print('Precision Score                :',round(precision_score(Y_test,gradient_pred_test,average='micro'),4))\n",
    "print('Recall Score                   :',round(recall_score(Y_test,gradient_pred_test,average='micro'),4))\n",
    "print('Confusion Matrix               :\\n',confusion_matrix(Y_test,gradient_pred_test))\n",
    "print('Classification Report          :\\n',classification_report(Y_test,gradient_pred_test))"
   ]
  },
  {
   "cell_type": "markdown",
   "metadata": {},
   "source": [
    "6. XGBClassifier"
   ]
  },
  {
   "cell_type": "code",
   "execution_count": 63,
   "metadata": {},
   "outputs": [
    {
     "name": "stdout",
     "output_type": "stream",
     "text": [
      "Wall time: 38.8 s\n"
     ]
    },
    {
     "data": {
      "text/plain": [
       "XGBClassifier(base_score=0.5, booster='gbtree', callbacks=None,\n",
       "              colsample_bylevel=1, colsample_bynode=1, colsample_bytree=1,\n",
       "              early_stopping_rounds=None, enable_categorical=False,\n",
       "              eval_metric=None, gamma=0, gpu_id=-1, grow_policy='depthwise',\n",
       "              importance_type=None, interaction_constraints='',\n",
       "              learning_rate=0.300000012, max_bin=256, max_cat_to_onehot=4,\n",
       "              max_delta_step=0, max_depth=57, max_leaves=0, min_child_weight=1,\n",
       "              missing=nan, monotone_constraints='()', n_estimators=100,\n",
       "              n_jobs=0, num_parallel_tree=1, objective='multi:softprob',\n",
       "              predictor='auto', random_state=15, reg_alpha=0, ...)"
      ]
     },
     "execution_count": 63,
     "metadata": {},
     "output_type": "execute_result"
    }
   ],
   "source": [
    "%%time\n",
    "xgb_model = XGBClassifier(max_depth=57,random_state=15)\n",
    "xgb_model.fit(X_train,Y_train)"
   ]
  },
  {
   "cell_type": "code",
   "execution_count": 64,
   "metadata": {},
   "outputs": [
    {
     "name": "stdout",
     "output_type": "stream",
     "text": [
      "Accuracy Score                 : 0.9999\n",
      "Precision Score                : 0.9999\n",
      "Recall Score                   : 0.9999\n",
      "Confusion Matrix               :\n",
      " [[2823    0    0    2    0]\n",
      " [   0 2775    0    0    0]\n",
      " [   0    0 2807    0    0]\n",
      " [   0    0    0 2812    0]\n",
      " [   0    0    0    0 2840]]\n",
      "Classification Report          :\n",
      "               precision    recall  f1-score   support\n",
      "\n",
      "           0       1.00      1.00      1.00      2825\n",
      "           1       1.00      1.00      1.00      2775\n",
      "           2       1.00      1.00      1.00      2807\n",
      "           3       1.00      1.00      1.00      2812\n",
      "           4       1.00      1.00      1.00      2840\n",
      "\n",
      "    accuracy                           1.00     14059\n",
      "   macro avg       1.00      1.00      1.00     14059\n",
      "weighted avg       1.00      1.00      1.00     14059\n",
      "\n"
     ]
    }
   ],
   "source": [
    "xgb_pred_train = xgb_model.predict(X_train)\n",
    "print('Accuracy Score                 :',round(accuracy_score(Y_train,xgb_pred_train),4))\n",
    "print('Precision Score                :',round(precision_score(Y_train,xgb_pred_train,average='micro'),4))\n",
    "print('Recall Score                   :',round(recall_score(Y_train,xgb_pred_train,average='micro'),4))\n",
    "print('Confusion Matrix               :\\n',confusion_matrix(Y_train,xgb_pred_train))\n",
    "print('Classification Report          :\\n',classification_report(Y_train,xgb_pred_train))"
   ]
  },
  {
   "cell_type": "code",
   "execution_count": 65,
   "metadata": {},
   "outputs": [
    {
     "name": "stdout",
     "output_type": "stream",
     "text": [
      "Accuracy Score                 : 0.9564\n",
      "Precision Score                : 0.9564\n",
      "Recall Score                   : 0.9564\n",
      "Confusion Matrix               :\n",
      " [[1206   35    0  131    0]\n",
      " [  11 1374    9   28    0]\n",
      " [   0    0 1390    0    0]\n",
      " [  40   46    2 1297    0]\n",
      " [   0    0    0    0 1357]]\n",
      "Classification Report          :\n",
      "               precision    recall  f1-score   support\n",
      "\n",
      "           0       0.96      0.88      0.92      1372\n",
      "           1       0.94      0.97      0.96      1422\n",
      "           2       0.99      1.00      1.00      1390\n",
      "           3       0.89      0.94      0.91      1385\n",
      "           4       1.00      1.00      1.00      1357\n",
      "\n",
      "    accuracy                           0.96      6926\n",
      "   macro avg       0.96      0.96      0.96      6926\n",
      "weighted avg       0.96      0.96      0.96      6926\n",
      "\n"
     ]
    }
   ],
   "source": [
    "xgb_pred_test = xgb_model.predict(X_test)\n",
    "print('Accuracy Score                 :',round(accuracy_score(Y_test,xgb_pred_test),4))\n",
    "print('Precision Score                :',round(precision_score(Y_test,xgb_pred_test,average='micro'),4))\n",
    "print('Recall Score                   :',round(recall_score(Y_test,xgb_pred_test,average='micro'),4))\n",
    "print('Confusion Matrix               :\\n',confusion_matrix(Y_test,xgb_pred_test))\n",
    "print('Classification Report          :\\n',classification_report(Y_test,xgb_pred_test))"
   ]
  },
  {
   "cell_type": "markdown",
   "metadata": {},
   "source": [
    "7. LGBMClassifier"
   ]
  },
  {
   "cell_type": "code",
   "execution_count": 66,
   "metadata": {},
   "outputs": [
    {
     "name": "stdout",
     "output_type": "stream",
     "text": [
      "Wall time: 7.66 s\n"
     ]
    },
    {
     "data": {
      "text/plain": [
       "LGBMClassifier(max_depth=57, random_state=15)"
      ]
     },
     "execution_count": 66,
     "metadata": {},
     "output_type": "execute_result"
    }
   ],
   "source": [
    "%%time\n",
    "lgb_model      = LGBMClassifier(max_depth=57,random_state=15)\n",
    "lgb_model.fit(X_train,Y_train)"
   ]
  },
  {
   "cell_type": "code",
   "execution_count": 67,
   "metadata": {},
   "outputs": [
    {
     "name": "stdout",
     "output_type": "stream",
     "text": [
      "Accuracy Score                 : 0.9859\n",
      "Precision Score                : 0.9859\n",
      "Recall Score                   : 0.9859\n",
      "Confusion Matrix               :\n",
      " [[2744   12    0   69    0]\n",
      " [   4 2752    0   19    0]\n",
      " [   0    0 2807    0    0]\n",
      " [  56   38    0 2718    0]\n",
      " [   0    0    0    0 2840]]\n",
      "Classification Report          :\n",
      "               precision    recall  f1-score   support\n",
      "\n",
      "           0       0.98      0.97      0.97      2825\n",
      "           1       0.98      0.99      0.99      2775\n",
      "           2       1.00      1.00      1.00      2807\n",
      "           3       0.97      0.97      0.97      2812\n",
      "           4       1.00      1.00      1.00      2840\n",
      "\n",
      "    accuracy                           0.99     14059\n",
      "   macro avg       0.99      0.99      0.99     14059\n",
      "weighted avg       0.99      0.99      0.99     14059\n",
      "\n"
     ]
    }
   ],
   "source": [
    "lgb_pred_train = lgb_model.predict(X_train)\n",
    "print('Accuracy Score                 :',round(accuracy_score(Y_train,lgb_pred_train),4))\n",
    "print('Precision Score                :',round(precision_score(Y_train,lgb_pred_train,average='micro'),4))\n",
    "print('Recall Score                   :',round(recall_score(Y_train,lgb_pred_train,average='micro'),4))\n",
    "print('Confusion Matrix               :\\n',confusion_matrix(Y_train,lgb_pred_train))\n",
    "print('Classification Report          :\\n',classification_report(Y_train,lgb_pred_train))"
   ]
  },
  {
   "cell_type": "code",
   "execution_count": 68,
   "metadata": {},
   "outputs": [
    {
     "name": "stdout",
     "output_type": "stream",
     "text": [
      "Accuracy Score                 : 0.936\n",
      "Precision Score                : 0.936\n",
      "Recall Score                   : 0.936\n",
      "Confusion Matrix               :\n",
      " [[1167   30    2  173    0]\n",
      " [  15 1344    8   55    0]\n",
      " [   0    0 1390    0    0]\n",
      " [  83   74    3 1225    0]\n",
      " [   0    0    0    0 1357]]\n",
      "Classification Report          :\n",
      "               precision    recall  f1-score   support\n",
      "\n",
      "           0       0.92      0.85      0.89      1372\n",
      "           1       0.93      0.95      0.94      1422\n",
      "           2       0.99      1.00      1.00      1390\n",
      "           3       0.84      0.88      0.86      1385\n",
      "           4       1.00      1.00      1.00      1357\n",
      "\n",
      "    accuracy                           0.94      6926\n",
      "   macro avg       0.94      0.94      0.94      6926\n",
      "weighted avg       0.94      0.94      0.94      6926\n",
      "\n"
     ]
    }
   ],
   "source": [
    "lgb_pred_test = lgb_model.predict(X_test)\n",
    "print('Accuracy Score                 :',round(accuracy_score(Y_test,lgb_pred_test),4))\n",
    "print('Precision Score                :',round(precision_score(Y_test,lgb_pred_test,average='micro'),4))\n",
    "print('Recall Score                   :',round(recall_score(Y_test,lgb_pred_test,average='micro'),4))\n",
    "print('Confusion Matrix               :\\n',confusion_matrix(Y_test,lgb_pred_test))\n",
    "print('Classification Report          :\\n',classification_report(Y_test,lgb_pred_test))"
   ]
  },
  {
   "cell_type": "markdown",
   "metadata": {},
   "source": [
    "8. KNeighborsClassifier"
   ]
  },
  {
   "cell_type": "code",
   "execution_count": 69,
   "metadata": {},
   "outputs": [
    {
     "name": "stdout",
     "output_type": "stream",
     "text": [
      "Wall time: 7.01 ms\n"
     ]
    },
    {
     "data": {
      "text/plain": [
       "KNeighborsClassifier()"
      ]
     },
     "execution_count": 69,
     "metadata": {},
     "output_type": "execute_result"
    }
   ],
   "source": [
    "%%time\n",
    "knn_model = KNeighborsClassifier()\n",
    "knn_model.fit(X_train,Y_train)"
   ]
  },
  {
   "cell_type": "code",
   "execution_count": 70,
   "metadata": {},
   "outputs": [
    {
     "name": "stdout",
     "output_type": "stream",
     "text": [
      "Accuracy Score                 : 0.9147\n",
      "Precision Score                : 0.9147\n",
      "Recall Score                   : 0.9147\n",
      "Confusion Matrix               :\n",
      " [[2317  114    5  389    0]\n",
      " [  52 2538   31  149    5]\n",
      " [   0    0 2807    0    0]\n",
      " [ 191  258    5 2358    0]\n",
      " [   0    0    0    0 2840]]\n",
      "Classification Report          :\n",
      "               precision    recall  f1-score   support\n",
      "\n",
      "           0       0.91      0.82      0.86      2825\n",
      "           1       0.87      0.91      0.89      2775\n",
      "           2       0.99      1.00      0.99      2807\n",
      "           3       0.81      0.84      0.83      2812\n",
      "           4       1.00      1.00      1.00      2840\n",
      "\n",
      "    accuracy                           0.91     14059\n",
      "   macro avg       0.92      0.91      0.91     14059\n",
      "weighted avg       0.92      0.91      0.91     14059\n",
      "\n"
     ]
    }
   ],
   "source": [
    "knn_pred_train = knn_model.predict(X_train)\n",
    "print('Accuracy Score                 :',round(accuracy_score(Y_train,knn_pred_train),4))\n",
    "print('Precision Score                :',round(precision_score(Y_train,knn_pred_train,average='micro'),4))\n",
    "print('Recall Score                   :',round(recall_score(Y_train,knn_pred_train,average='micro'),4))\n",
    "print('Confusion Matrix               :\\n',confusion_matrix(Y_train,knn_pred_train))\n",
    "print('Classification Report          :\\n',classification_report(Y_train,knn_pred_train))"
   ]
  },
  {
   "cell_type": "code",
   "execution_count": 71,
   "metadata": {},
   "outputs": [
    {
     "name": "stdout",
     "output_type": "stream",
     "text": [
      "Accuracy Score                 : 0.8504\n",
      "Precision Score                : 0.8504\n",
      "Recall Score                   : 0.8504\n",
      "Confusion Matrix               :\n",
      " [[1018   67    6  281    0]\n",
      " [  59 1178   35  148    2]\n",
      " [   0    0 1390    0    0]\n",
      " [ 176  255    7  947    0]\n",
      " [   0    0    0    0 1357]]\n",
      "Classification Report          :\n",
      "               precision    recall  f1-score   support\n",
      "\n",
      "           0       0.81      0.74      0.78      1372\n",
      "           1       0.79      0.83      0.81      1422\n",
      "           2       0.97      1.00      0.98      1390\n",
      "           3       0.69      0.68      0.69      1385\n",
      "           4       1.00      1.00      1.00      1357\n",
      "\n",
      "    accuracy                           0.85      6926\n",
      "   macro avg       0.85      0.85      0.85      6926\n",
      "weighted avg       0.85      0.85      0.85      6926\n",
      "\n"
     ]
    }
   ],
   "source": [
    "knn_pred_test = knn_model.predict(X_test)\n",
    "print('Accuracy Score                 :',round(accuracy_score(Y_test,knn_pred_test),4))\n",
    "print('Precision Score                :',round(precision_score(Y_test,knn_pred_test,average='micro'),4))\n",
    "print('Recall Score                   :',round(recall_score(Y_test,knn_pred_test,average='micro'),4))\n",
    "print('Confusion Matrix               :\\n',confusion_matrix(Y_test,knn_pred_test))\n",
    "print('Classification Report          :\\n',classification_report(Y_test,knn_pred_test))"
   ]
  },
  {
   "cell_type": "markdown",
   "metadata": {},
   "source": [
    "Results Comparison"
   ]
  },
  {
   "cell_type": "code",
   "execution_count": 72,
   "metadata": {},
   "outputs": [
    {
     "data": {
      "text/html": [
       "<div>\n",
       "<style scoped>\n",
       "    .dataframe tbody tr th:only-of-type {\n",
       "        vertical-align: middle;\n",
       "    }\n",
       "\n",
       "    .dataframe tbody tr th {\n",
       "        vertical-align: top;\n",
       "    }\n",
       "\n",
       "    .dataframe thead th {\n",
       "        text-align: right;\n",
       "    }\n",
       "</style>\n",
       "<table border=\"1\" class=\"dataframe\">\n",
       "  <thead>\n",
       "    <tr style=\"text-align: right;\">\n",
       "      <th></th>\n",
       "      <th>Models</th>\n",
       "      <th>Training Accuracy</th>\n",
       "      <th>Test Accuracy</th>\n",
       "      <th>Precision Score</th>\n",
       "      <th>Recall Score</th>\n",
       "    </tr>\n",
       "  </thead>\n",
       "  <tbody>\n",
       "    <tr>\n",
       "      <th>0</th>\n",
       "      <td>Logistic Regression</td>\n",
       "      <td>0.8777</td>\n",
       "      <td>0.8253</td>\n",
       "      <td>0.8253</td>\n",
       "      <td>0.8253</td>\n",
       "    </tr>\n",
       "    <tr>\n",
       "      <th>1</th>\n",
       "      <td>Decision Tree</td>\n",
       "      <td>0.9919</td>\n",
       "      <td>0.9352</td>\n",
       "      <td>0.9352</td>\n",
       "      <td>0.9352</td>\n",
       "    </tr>\n",
       "    <tr>\n",
       "      <th>2</th>\n",
       "      <td>Random Forest</td>\n",
       "      <td>0.9980</td>\n",
       "      <td>0.9516</td>\n",
       "      <td>0.9516</td>\n",
       "      <td>0.9516</td>\n",
       "    </tr>\n",
       "    <tr>\n",
       "      <th>3</th>\n",
       "      <td>Addaboost</td>\n",
       "      <td>0.5719</td>\n",
       "      <td>0.5744</td>\n",
       "      <td>0.5744</td>\n",
       "      <td>0.5744</td>\n",
       "    </tr>\n",
       "    <tr>\n",
       "      <th>4</th>\n",
       "      <td>Gradient Boosting</td>\n",
       "      <td>0.8602</td>\n",
       "      <td>0.8243</td>\n",
       "      <td>0.8243</td>\n",
       "      <td>0.8243</td>\n",
       "    </tr>\n",
       "    <tr>\n",
       "      <th>5</th>\n",
       "      <td>Extreme Gradient Boosting</td>\n",
       "      <td>0.9999</td>\n",
       "      <td>0.9570</td>\n",
       "      <td>0.9570</td>\n",
       "      <td>0.9570</td>\n",
       "    </tr>\n",
       "    <tr>\n",
       "      <th>6</th>\n",
       "      <td>Light Gradient Boosting</td>\n",
       "      <td>0.9866</td>\n",
       "      <td>0.9360</td>\n",
       "      <td>0.9360</td>\n",
       "      <td>0.9360</td>\n",
       "    </tr>\n",
       "    <tr>\n",
       "      <th>7</th>\n",
       "      <td>K-Nearest Neighbor</td>\n",
       "      <td>0.9149</td>\n",
       "      <td>0.8509</td>\n",
       "      <td>0.8509</td>\n",
       "      <td>0.8509</td>\n",
       "    </tr>\n",
       "  </tbody>\n",
       "</table>\n",
       "</div>"
      ],
      "text/plain": [
       "                      Models  Training Accuracy  Test Accuracy  \\\n",
       "0        Logistic Regression             0.8777         0.8253   \n",
       "1              Decision Tree             0.9919         0.9352   \n",
       "2              Random Forest             0.9980         0.9516   \n",
       "3                  Addaboost             0.5719         0.5744   \n",
       "4          Gradient Boosting             0.8602         0.8243   \n",
       "5  Extreme Gradient Boosting             0.9999         0.9570   \n",
       "6    Light Gradient Boosting             0.9866         0.9360   \n",
       "7         K-Nearest Neighbor             0.9149         0.8509   \n",
       "\n",
       "   Precision Score  Recall Score  \n",
       "0           0.8253        0.8253  \n",
       "1           0.9352        0.9352  \n",
       "2           0.9516        0.9516  \n",
       "3           0.5744        0.5744  \n",
       "4           0.8243        0.8243  \n",
       "5           0.9570        0.9570  \n",
       "6           0.9360        0.9360  \n",
       "7           0.8509        0.8509  "
      ]
     },
     "execution_count": 72,
     "metadata": {},
     "output_type": "execute_result"
    }
   ],
   "source": [
    "result_df = pd.DataFrame({'Models':['Logistic Regression','Decision Tree','Random Forest','Addaboost','Gradient Boosting','Extreme Gradient Boosting','Light Gradient Boosting','K-Nearest Neighbor'],\n",
    "                          'Training Accuracy':[0.8777,0.9919,0.998,0.5719,0.8602,0.9999,0.9866,0.9149],\n",
    "                          'Test Accuracy':[0.8253,0.9352,0.9516,0.5744,0.8243,0.957,0.936,0.8509],\n",
    "                          'Precision Score':[0.8253,0.9352,0.9516,0.5744,0.8243,0.957,0.936,0.8509],\n",
    "                          'Recall Score':[0.8253,0.9352,0.9516,0.5744,0.8243,0.957,0.936,0.8509]})\n",
    "result_df"
   ]
  },
  {
   "cell_type": "code",
   "execution_count": 73,
   "metadata": {},
   "outputs": [
    {
     "data": {
      "text/html": [
       "<div>\n",
       "<style scoped>\n",
       "    .dataframe tbody tr th:only-of-type {\n",
       "        vertical-align: middle;\n",
       "    }\n",
       "\n",
       "    .dataframe tbody tr th {\n",
       "        vertical-align: top;\n",
       "    }\n",
       "\n",
       "    .dataframe thead th {\n",
       "        text-align: right;\n",
       "    }\n",
       "</style>\n",
       "<table border=\"1\" class=\"dataframe\">\n",
       "  <thead>\n",
       "    <tr style=\"text-align: right;\">\n",
       "      <th></th>\n",
       "      <th>Models</th>\n",
       "      <th>Training Accuracy</th>\n",
       "      <th>Test Accuracy</th>\n",
       "      <th>Precision Score</th>\n",
       "      <th>Recall Score</th>\n",
       "    </tr>\n",
       "  </thead>\n",
       "  <tbody>\n",
       "    <tr>\n",
       "      <th>5</th>\n",
       "      <td>Extreme Gradient Boosting</td>\n",
       "      <td>0.9999</td>\n",
       "      <td>0.9570</td>\n",
       "      <td>0.9570</td>\n",
       "      <td>0.9570</td>\n",
       "    </tr>\n",
       "    <tr>\n",
       "      <th>2</th>\n",
       "      <td>Random Forest</td>\n",
       "      <td>0.9980</td>\n",
       "      <td>0.9516</td>\n",
       "      <td>0.9516</td>\n",
       "      <td>0.9516</td>\n",
       "    </tr>\n",
       "    <tr>\n",
       "      <th>6</th>\n",
       "      <td>Light Gradient Boosting</td>\n",
       "      <td>0.9866</td>\n",
       "      <td>0.9360</td>\n",
       "      <td>0.9360</td>\n",
       "      <td>0.9360</td>\n",
       "    </tr>\n",
       "    <tr>\n",
       "      <th>1</th>\n",
       "      <td>Decision Tree</td>\n",
       "      <td>0.9919</td>\n",
       "      <td>0.9352</td>\n",
       "      <td>0.9352</td>\n",
       "      <td>0.9352</td>\n",
       "    </tr>\n",
       "    <tr>\n",
       "      <th>7</th>\n",
       "      <td>K-Nearest Neighbor</td>\n",
       "      <td>0.9149</td>\n",
       "      <td>0.8509</td>\n",
       "      <td>0.8509</td>\n",
       "      <td>0.8509</td>\n",
       "    </tr>\n",
       "    <tr>\n",
       "      <th>0</th>\n",
       "      <td>Logistic Regression</td>\n",
       "      <td>0.8777</td>\n",
       "      <td>0.8253</td>\n",
       "      <td>0.8253</td>\n",
       "      <td>0.8253</td>\n",
       "    </tr>\n",
       "    <tr>\n",
       "      <th>4</th>\n",
       "      <td>Gradient Boosting</td>\n",
       "      <td>0.8602</td>\n",
       "      <td>0.8243</td>\n",
       "      <td>0.8243</td>\n",
       "      <td>0.8243</td>\n",
       "    </tr>\n",
       "    <tr>\n",
       "      <th>3</th>\n",
       "      <td>Addaboost</td>\n",
       "      <td>0.5719</td>\n",
       "      <td>0.5744</td>\n",
       "      <td>0.5744</td>\n",
       "      <td>0.5744</td>\n",
       "    </tr>\n",
       "  </tbody>\n",
       "</table>\n",
       "</div>"
      ],
      "text/plain": [
       "                      Models  Training Accuracy  Test Accuracy  \\\n",
       "5  Extreme Gradient Boosting             0.9999         0.9570   \n",
       "2              Random Forest             0.9980         0.9516   \n",
       "6    Light Gradient Boosting             0.9866         0.9360   \n",
       "1              Decision Tree             0.9919         0.9352   \n",
       "7         K-Nearest Neighbor             0.9149         0.8509   \n",
       "0        Logistic Regression             0.8777         0.8253   \n",
       "4          Gradient Boosting             0.8602         0.8243   \n",
       "3                  Addaboost             0.5719         0.5744   \n",
       "\n",
       "   Precision Score  Recall Score  \n",
       "5           0.9570        0.9570  \n",
       "2           0.9516        0.9516  \n",
       "6           0.9360        0.9360  \n",
       "1           0.9352        0.9352  \n",
       "7           0.8509        0.8509  \n",
       "0           0.8253        0.8253  \n",
       "4           0.8243        0.8243  \n",
       "3           0.5744        0.5744  "
      ]
     },
     "execution_count": 73,
     "metadata": {},
     "output_type": "execute_result"
    }
   ],
   "source": [
    "result_df = result_df.sort_values(by='Test Accuracy',ascending=False)\n",
    "result_df"
   ]
  },
  {
   "cell_type": "markdown",
   "metadata": {},
   "source": [
    "From above dataframe its clear that for XGBoost we got better accuracy as well as precision and recall score."
   ]
  },
  {
   "cell_type": "code",
   "execution_count": null,
   "metadata": {},
   "outputs": [],
   "source": []
  },
  {
   "cell_type": "code",
   "execution_count": null,
   "metadata": {},
   "outputs": [],
   "source": []
  },
  {
   "cell_type": "code",
   "execution_count": null,
   "metadata": {},
   "outputs": [],
   "source": []
  },
  {
   "cell_type": "code",
   "execution_count": null,
   "metadata": {},
   "outputs": [],
   "source": []
  },
  {
   "cell_type": "code",
   "execution_count": null,
   "metadata": {},
   "outputs": [],
   "source": []
  }
 ],
 "metadata": {
  "kernelspec": {
   "display_name": "Python 3",
   "language": "python",
   "name": "python3"
  },
  "language_info": {
   "codemirror_mode": {
    "name": "ipython",
    "version": 3
   },
   "file_extension": ".py",
   "mimetype": "text/x-python",
   "name": "python",
   "nbconvert_exporter": "python",
   "pygments_lexer": "ipython3",
   "version": "3.8.3"
  }
 },
 "nbformat": 4,
 "nbformat_minor": 5
}
